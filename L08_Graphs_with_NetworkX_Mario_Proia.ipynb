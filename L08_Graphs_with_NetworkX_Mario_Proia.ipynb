{
 "cells": [
  {
   "cell_type": "markdown",
   "metadata": {},
   "source": [
    "# NetworkX: Network Analysis in Python\n",
    "\n",
    "[NetworkX](https://networkx.github.io/) is a Python package for the creation, manipulation, and study of the structure, dynamics, and functions of complex networks.\n",
    "\n",
    "- Data structures for graphs, digraphs, and multigraphs\n",
    "- Many standard graph algorithms\n",
    "- Network structure and analysis measures\n",
    "- Generators for classic graphs, random graphs, and synthetic networks\n",
    "- Nodes can be \"anything\" (e.g., text, images, XML records)\n",
    "- Edges can hold arbitrary data (e.g., weights, time-series)"
   ]
  },
  {
   "cell_type": "markdown",
   "metadata": {},
   "source": [
    "## Let's install necessary libraries"
   ]
  },
  {
   "cell_type": "code",
   "execution_count": 49,
   "metadata": {},
   "outputs": [
    {
     "data": {
      "text/plain": [
       "'!python3 -m pip install --user networkx\\n#for graph plottinh\\n!python3 -m pip install --user  matplotlib\\n\\n# need graphviz on your machine\\n#!sudo apt-get install graphviz libgraphviz-dev graphviz-dev pkg-config\\n#!brew install graphviz . You may need to do python3 -m pip install --install-option=\"--include-path=/usr/local/include/\" --install-option=\"--library-path=/usr/local/lib/\" pygraphviz\\n\\n!python3 -m pip install --user pygraphviz \\n'"
      ]
     },
     "execution_count": 49,
     "metadata": {},
     "output_type": "execute_result"
    }
   ],
   "source": [
    "'''!python3 -m pip install --user networkx\n",
    "#for graph plottinh\n",
    "!python3 -m pip install --user  matplotlib\n",
    "\n",
    "# need graphviz on your machine\n",
    "#!sudo apt-get install graphviz libgraphviz-dev graphviz-dev pkg-config\n",
    "#!brew install graphviz . You may need to do python3 -m pip install --install-option=\"--include-path=/usr/local/include/\" --install-option=\"--library-path=/usr/local/lib/\" pygraphviz\n",
    "\n",
    "!python3 -m pip install --user pygraphviz \n",
    "'''"
   ]
  },
  {
   "cell_type": "code",
   "execution_count": 50,
   "metadata": {},
   "outputs": [
    {
     "name": "stdout",
     "output_type": "stream",
     "text": [
      "2.4\n"
     ]
    }
   ],
   "source": [
    "import networkx as nx\n",
    "print(nx.__version__)\n",
    "\n",
    "import matplotlib.pyplot as plt\n",
    "import numpy as np"
   ]
  },
  {
   "cell_type": "markdown",
   "metadata": {},
   "source": [
    "### Some functions to plot graphs"
   ]
  },
  {
   "cell_type": "code",
   "execution_count": 51,
   "metadata": {},
   "outputs": [],
   "source": [
    "from networkx.drawing.nx_agraph import graphviz_layout\n",
    "\n",
    "def plot_graph(G):\n",
    "    nx.draw(G, with_labels = True)  \n",
    "    plt.show()\n",
    "    \n",
    "def plot_graph_with_weights(G):\n",
    "    pos = nx.planar_layout(G) # pos = nx.nx_agraph.graphviz_layout(G)\n",
    "    nx.draw_networkx(G,pos)\n",
    "    labels = nx.get_edge_attributes(G,'weight')\n",
    "    nx.draw_networkx_edge_labels(G, pos, edge_labels=labels)\n",
    "    plt.show()\n",
    "\n",
    "def plot_tree(tree):\n",
    "    pos = graphviz_layout(tree, prog='dot')\n",
    "    nx.draw(tree, pos, with_labels=True)\n",
    "    plt.show()\n",
    "    \n",
    "def plot_graph_and_highlight_dijistra(G, path):\n",
    "    pos = graphviz_layout(G)\n",
    "    nx.draw(G, pos, with_labels = True)\n",
    "\n",
    "    nx.draw_networkx_nodes(G, pos, nodelist=path,node_color='r', with_labels=True)\n",
    "    path_edges = list(zip(path, path[1:]))\n",
    "    nx.draw_networkx_edges(G, pos, edgelist=path_edges, edge_color='r', width=4)\n",
    "    plt.show()"
   ]
  },
  {
   "cell_type": "markdown",
   "metadata": {},
   "source": [
    "---\n",
    "\n",
    "## Create a Graph\n",
    "\n",
    "A graph is a __collection of nodes and edges__, *i.e.*, G = (V, E). Let us create an empty graph"
   ]
  },
  {
   "cell_type": "markdown",
   "metadata": {},
   "source": [
    "Let's start by creating an empty graph"
   ]
  },
  {
   "cell_type": "code",
   "execution_count": 52,
   "metadata": {},
   "outputs": [],
   "source": [
    "G = nx.Graph()"
   ]
  },
  {
   "cell_type": "markdown",
   "metadata": {},
   "source": [
    "Now let's __populate__ the graph. We can add one node at time using *G.add_node()* or add any iterable collections (lists, strings etc..) with *G.add_nodes_from*. \n",
    "\n",
    "We are now using strings as nodes's names, but nodes can be any hashable object."
   ]
  },
  {
   "cell_type": "code",
   "execution_count": 53,
   "metadata": {},
   "outputs": [],
   "source": [
    "G.add_node('a') #posso aggiungere un nodo\n",
    "my_list = ['b', 'c', 'd']\n",
    "G.add_nodes_from(my_list) #posso aggiungere una lista di nodi"
   ]
  },
  {
   "cell_type": "markdown",
   "metadata": {},
   "source": [
    "We can __inspect the nodes__ in a graph using *G.nodes()*."
   ]
  },
  {
   "cell_type": "code",
   "execution_count": 54,
   "metadata": {},
   "outputs": [
    {
     "data": {
      "text/plain": [
       "NodeView(('a', 'b', 'c', 'd'))"
      ]
     },
     "execution_count": 54,
     "metadata": {},
     "output_type": "execute_result"
    }
   ],
   "source": [
    "G.nodes()"
   ]
  },
  {
   "cell_type": "code",
   "execution_count": 55,
   "metadata": {},
   "outputs": [
    {
     "data": {
      "image/png": "[encoded data removed]",
      "text/plain": [
       "<Figure size 432x288 with 1 Axes>"
      ]
     },
     "metadata": {},
     "output_type": "display_data"
    }
   ],
   "source": [
    "plot_graph(G)"
   ]
  },
  {
   "cell_type": "markdown",
   "metadata": {},
   "source": [
    "Now let us __add edges__ to the graph. \n",
    "\n",
    "We can add one edge at time with *G.add_edge()*, specifying the nodes between whom we want the edge to stay. As for nodes, we can pass an iterable colletion to *G.add_edges_from()*."
   ]
  },
  {
   "cell_type": "code",
   "execution_count": 56,
   "metadata": {},
   "outputs": [
    {
     "data": {
      "text/plain": [
       "EdgeView([('a', 'b'), ('a', 'c'), ('b', 'd'), ('c', 'd')])"
      ]
     },
     "execution_count": 56,
     "metadata": {},
     "output_type": "execute_result"
    }
   ],
   "source": [
    "G.add_edges_from([('a', 'b'), ('a', 'c'), ('c', 'd'), ('b', 'd')])\n",
    "G.edges()"
   ]
  },
  {
   "cell_type": "markdown",
   "metadata": {},
   "source": [
    "If we add edges between nodes that does not exist, __nodes are automatically added__"
   ]
  },
  {
   "cell_type": "code",
   "execution_count": 57,
   "metadata": {},
   "outputs": [],
   "source": [
    "G.add_edge(\"a\", \"e\")"
   ]
  },
  {
   "cell_type": "code",
   "execution_count": 58,
   "metadata": {},
   "outputs": [
    {
     "data": {
      "image/png": "[encoded data removed]",
      "text/plain": [
       "<Figure size 432x288 with 1 Axes>"
      ]
     },
     "metadata": {},
     "output_type": "display_data"
    }
   ],
   "source": [
    "plot_graph(G)"
   ]
  },
  {
   "cell_type": "markdown",
   "metadata": {},
   "source": [
    "__Remove__ nodes and/or edges using the *G.remove_node()* or the *G.remove_nodes_from()*"
   ]
  },
  {
   "cell_type": "code",
   "execution_count": 59,
   "metadata": {},
   "outputs": [
    {
     "data": {
      "image/png": "[encoded data removed]",
      "text/plain": [
       "<Figure size 432x288 with 1 Axes>"
      ]
     },
     "metadata": {},
     "output_type": "display_data"
    }
   ],
   "source": [
    "G.remove_node('e')\n",
    "plot_graph(G)"
   ]
  },
  {
   "cell_type": "markdown",
   "metadata": {},
   "source": [
    "---\n",
    "## Graph properties\n"
   ]
  },
  {
   "cell_type": "markdown",
   "metadata": {},
   "source": [
    "NewtorkX provides direct access to several __graph properties__"
   ]
  },
  {
   "cell_type": "code",
   "execution_count": 60,
   "metadata": {},
   "outputs": [
    {
     "name": "stdout",
     "output_type": "stream",
     "text": [
      "Number of Nodes:  4\n",
      "Number of Edges:  4\n"
     ]
    }
   ],
   "source": [
    "# Number of nodes\n",
    "print(\"Number of Nodes: \", G.order()) # equivalent to len(G) and G.number_of_nodes()\n",
    "# Number of edges\n",
    "print(\"Number of Edges: \", G.number_of_edges())"
   ]
  },
  {
   "cell_type": "markdown",
   "metadata": {},
   "source": [
    "Nodes can be listed with G.nodes."
   ]
  },
  {
   "cell_type": "code",
   "execution_count": 61,
   "metadata": {},
   "outputs": [
    {
     "data": {
      "text/plain": [
       "NodeView(('a', 'b', 'c', 'd'))"
      ]
     },
     "execution_count": 61,
     "metadata": {},
     "output_type": "execute_result"
    }
   ],
   "source": [
    "G.nodes"
   ]
  },
  {
   "cell_type": "markdown",
   "metadata": {},
   "source": [
    "We can assign nodes some attributes, e.g., a color."
   ]
  },
  {
   "cell_type": "code",
   "execution_count": 62,
   "metadata": {},
   "outputs": [],
   "source": [
    "for node in G.nodes:\n",
    "    G.nodes[node]['color'] = 'white'"
   ]
  },
  {
   "cell_type": "code",
   "execution_count": 63,
   "metadata": {},
   "outputs": [
    {
     "data": {
      "text/plain": [
       "[('a', {'color': 'white'}),\n",
       " ('b', {'color': 'white'}),\n",
       " ('c', {'color': 'white'}),\n",
       " ('d', {'color': 'white'})]"
      ]
     },
     "execution_count": 63,
     "metadata": {},
     "output_type": "execute_result"
    }
   ],
   "source": [
    "list(G.nodes.data())"
   ]
  },
  {
   "cell_type": "code",
   "execution_count": 64,
   "metadata": {},
   "outputs": [
    {
     "data": {
      "text/plain": [
       "'white'"
      ]
     },
     "execution_count": 64,
     "metadata": {},
     "output_type": "execute_result"
    }
   ],
   "source": [
    "G.nodes['a']['color']"
   ]
  },
  {
   "cell_type": "markdown",
   "metadata": {},
   "source": [
    "We can explore the **neighbours** and the **degree** of the nodes in a graph using the facilities *G.adj* and *G.degree*."
   ]
  },
  {
   "cell_type": "code",
   "execution_count": 65,
   "metadata": {},
   "outputs": [
    {
     "name": "stdout",
     "output_type": "stream",
     "text": [
      "{'a': {'b': {}, 'c': {}}, 'b': {'a': {}, 'd': {}}, 'c': {'a': {}, 'd': {}}, 'd': {'c': {}, 'b': {}}}\n",
      "{'b': {}, 'c': {}}\n"
     ]
    }
   ],
   "source": [
    "print(G.adj)\n",
    "print(G.adj['a'])"
   ]
  },
  {
   "cell_type": "markdown",
   "metadata": {},
   "source": [
    "Graph are __subscriptable__ objects and we can access neighbours directly with the [ ] operator."
   ]
  },
  {
   "cell_type": "code",
   "execution_count": 66,
   "metadata": {},
   "outputs": [
    {
     "name": "stdout",
     "output_type": "stream",
     "text": [
      "{'b': {}, 'c': {}}\n",
      "{'b': {}, 'c': {}}\n"
     ]
    }
   ],
   "source": [
    "print(G.adj['a'])\n",
    "print(G['a'])"
   ]
  },
  {
   "cell_type": "markdown",
   "metadata": {},
   "source": [
    "We may want to add some edges properties."
   ]
  },
  {
   "cell_type": "code",
   "execution_count": 67,
   "metadata": {},
   "outputs": [],
   "source": [
    "G['a']['c']['color'] = 'green'\n",
    "G['a']['b']['color'] = 'black'"
   ]
  },
  {
   "cell_type": "markdown",
   "metadata": {},
   "source": [
    "We can use *G.adj* as a dictionary and __iterate__ over it."
   ]
  },
  {
   "cell_type": "code",
   "execution_count": 68,
   "metadata": {},
   "outputs": [
    {
     "name": "stdout",
     "output_type": "stream",
     "text": [
      "a {'b': {'color': 'black'}, 'c': {'color': 'green'}}\n",
      "b {'a': {'color': 'black'}, 'd': {}}\n",
      "c {'a': {'color': 'green'}, 'd': {}}\n",
      "d {'c': {}, 'b': {}}\n"
     ]
    }
   ],
   "source": [
    "for node, datadict in G.adj.items():\n",
    "    # datadict is a dictionary whose keys are node neighbours and whose value, in turn, is a dictionary \n",
    "    # reporting 'property:value' of the edge between node and key\n",
    "    \n",
    "    print(node, datadict) "
   ]
  },
  {
   "cell_type": "markdown",
   "metadata": {},
   "source": [
    "The degree property reports the number of edges for each node."
   ]
  },
  {
   "cell_type": "code",
   "execution_count": 69,
   "metadata": {},
   "outputs": [
    {
     "name": "stdout",
     "output_type": "stream",
     "text": [
      "[('a', 2), ('b', 2), ('c', 2), ('d', 2)]\n"
     ]
    }
   ],
   "source": [
    "print(G.degree)"
   ]
  },
  {
   "cell_type": "code",
   "execution_count": 70,
   "metadata": {},
   "outputs": [
    {
     "data": {
      "text/plain": [
       "EdgeDataView([('a', 'b', {'color': 'black'}), ('a', 'c', {'color': 'green'}), ('b', 'd', {}), ('c', 'd', {}), (1, 2, {'weight': 1.0})])"
      ]
     },
     "execution_count": 70,
     "metadata": {},
     "output_type": "execute_result"
    }
   ],
   "source": [
    "G.add_edge(1,2, weight = 1.0)\n",
    "G.edges().data()"
   ]
  },
  {
   "cell_type": "markdown",
   "metadata": {},
   "source": [
    "---\n",
    "## Directed Graphs"
   ]
  },
  {
   "cell_type": "markdown",
   "metadata": {},
   "source": [
    "Networkx supports directed graphs."
   ]
  },
  {
   "cell_type": "code",
   "execution_count": 71,
   "metadata": {},
   "outputs": [
    {
     "data": {
      "image/png": "[encoded data removed]",
      "text/plain": [
       "<Figure size 432x288 with 1 Axes>"
      ]
     },
     "metadata": {},
     "output_type": "display_data"
    }
   ],
   "source": [
    "DG = nx.DiGraph()\n",
    "#we add nodes and edges as a list oftriplets (or_node, dest_node, weight)\n",
    "DG.add_weighted_edges_from([(1, 2, 0.5), (3, 1, 0.75), (3, 2, 0.4)]) #(partenza, arrivo, peso)\n",
    "plot_graph_with_weights(DG)"
   ]
  },
  {
   "cell_type": "code",
   "execution_count": 72,
   "metadata": {},
   "outputs": [
    {
     "name": "stdout",
     "output_type": "stream",
     "text": [
      "Successor of node 1: Node 2\n",
      "Predecssor of node 1 : Node 3\n"
     ]
    }
   ],
   "source": [
    "print(\"Successor of node 1: Node\", list(DG.successors(1))[0]) #Equivalent to DG.neighbors for directed graphs\n",
    "print(\"Predecssor of node 1 : Node\", list(DG.predecessors(1))[0])"
   ]
  },
  {
   "cell_type": "markdown",
   "metadata": {},
   "source": [
    "We can __convert__ directed graphs to undirected one and viceversa.\n"
   ]
  },
  {
   "cell_type": "code",
   "execution_count": 73,
   "metadata": {},
   "outputs": [],
   "source": [
    "G = nx.to_undirected(DG)\n",
    "DG = nx.to_directed(G)"
   ]
  },
  {
   "cell_type": "markdown",
   "metadata": {},
   "source": [
    "---\n",
    "## Graph Operations"
   ]
  },
  {
   "cell_type": "markdown",
   "metadata": {},
   "source": [
    "Networkx supports most common graph operations. Some examples are \n",
    "<ul>\n",
    "<li>Union</li>\n",
    "<li>Intersection</li>\n",
    "<li>Complement</li>\n",
    "</ul>"
   ]
  },
  {
   "cell_type": "code",
   "execution_count": 74,
   "metadata": {},
   "outputs": [
    {
     "data": {
      "image/png": "[encoded data removed]",
      "text/plain": [
       "<Figure size 432x288 with 1 Axes>"
      ]
     },
     "metadata": {},
     "output_type": "display_data"
    }
   ],
   "source": [
    "# Create a first graph G\n",
    "G = nx.Graph()\n",
    "G.add_edges_from([(\"a\", \"b\"), (\"b\", \"c\"), (\"c\", \"d\")])\n",
    "\n",
    "# Create a second graph H\n",
    "H = nx.Graph()\n",
    "H.add_edges_from([(\"e\", \"f\"), (\"f\", \"g\"), (\"g\", \"h\") ])\n",
    "\n",
    "# Perform the union operation\n",
    "I = nx.union(G, H)\n",
    "plot_graph(I)"
   ]
  },
  {
   "cell_type": "code",
   "execution_count": 75,
   "metadata": {},
   "outputs": [
    {
     "data": {
      "image/png": "[encoded data removed]",
      "text/plain": [
       "<Figure size 432x288 with 1 Axes>"
      ]
     },
     "metadata": {},
     "output_type": "display_data"
    }
   ],
   "source": [
    "# Now link the two connected components\n",
    "I.add_edges_from([(\"a\",\"e\"), (\"b\", \"g\")])\n",
    "plot_graph(I)"
   ]
  },
  {
   "cell_type": "code",
   "execution_count": 76,
   "metadata": {},
   "outputs": [
    {
     "data": {
      "image/png": "[encoded data removed]",
      "text/plain": [
       "<Figure size 432x288 with 1 Axes>"
      ]
     },
     "metadata": {},
     "output_type": "display_data"
    }
   ],
   "source": [
    "# Create a third graph\n",
    "L = nx.Graph()\n",
    "\n",
    "# To perform intersection between two graphs, they must have the same nodes\n",
    "# First we copy all the nodes in I into L\n",
    "L.add_nodes_from(I.nodes())\n",
    "\n",
    "# Then we add some edge in L\n",
    "L.add_edges_from([(\"e\", \"f\"), (\"f\", \"g\")])\n",
    "\n",
    "M = nx.intersection(I, L)\n",
    "\n",
    "# Only the shared edges between I, L wil survive this operation\n",
    "plot_graph(M)"
   ]
  },
  {
   "cell_type": "markdown",
   "metadata": {},
   "source": [
    "---\n",
    "## Graph Search\n",
    "\n",
    "Several algorithm are already implemented in NetworkX, take a look [here](https://networkx.github.io/documentation/stable/reference/algorithms/index.html)."
   ]
  },
  {
   "cell_type": "markdown",
   "metadata": {},
   "source": [
    "### Breadth First Search (BFS)"
   ]
  },
  {
   "cell_type": "markdown",
   "metadata": {},
   "source": [
    "With Networkx it is easy to perform  graph search. Let us start with __BFS__. \n",
    "\n",
    "We will use a __Petersen__ graph as an example, a graph with 10 nodes and 15 edges."
   ]
  },
  {
   "cell_type": "code",
   "execution_count": 77,
   "metadata": {},
   "outputs": [
    {
     "name": "stdout",
     "output_type": "stream",
     "text": [
      "Number of nodes 10\n",
      "Number of edges 15\n"
     ]
    },
    {
     "data": {
      "image/png": "[encoded data removed]",
      "text/plain": [
       "<Figure size 432x288 with 1 Axes>"
      ]
     },
     "metadata": {},
     "output_type": "display_data"
    }
   ],
   "source": [
    "petersen = nx.petersen_graph()\n",
    "print(\"Number of nodes\", petersen.order())\n",
    "print(\"Number of edges\", petersen.number_of_edges())\n",
    "plot_graph(petersen)\n",
    "\n",
    "#dovrebbe essere disegnato come una stella dentro un pentagono"
   ]
  },
  {
   "cell_type": "markdown",
   "metadata": {},
   "source": [
    "Networkx offers several __methods__ to perform BFS. Observe that in the method definition, the arguments in square brackets [ ]  are optional.\n",
    "\n",
    "- bfs_edges(G, source, [reverse, depth_limit]):  returns an iterator over edges in a breadth-first-search starting at source, until depth_limit\n",
    "- bfs_tree(G, source, [reverse, depth_limit]): returns an oriented tree constructed from of a breadth-first-search starting at source\n",
    "- bfs_predecessors(G, source, [depth_limit]): returns an iterator of predecessors in breadth-first-search from source\n",
    "- bfs_successors(G, source, [depth_limit]): returns an iterator of successors in breadth-first-search from source         "
   ]
  },
  {
   "cell_type": "code",
   "execution_count": 78,
   "metadata": {},
   "outputs": [
    {
     "name": "stdout",
     "output_type": "stream",
     "text": [
      "Result of BFS on edges: [(0, 1), (0, 4), (0, 5), (1, 2), (1, 6), (4, 3), (4, 9), (5, 7), (5, 8)]\n"
     ]
    }
   ],
   "source": [
    "# We use 0 as source node. \n",
    "edges_bfs = list(nx.bfs_edges(petersen, 0))\n",
    "print(\"Result of BFS on edges:\", edges_bfs)"
   ]
  },
  {
   "cell_type": "code",
   "execution_count": null,
   "metadata": {},
   "outputs": [],
   "source": []
  },
  {
   "cell_type": "code",
   "execution_count": 79,
   "metadata": {},
   "outputs": [],
   "source": [
    "import pygraphviz"
   ]
  },
  {
   "cell_type": "code",
   "execution_count": 80,
   "metadata": {},
   "outputs": [
    {
     "data": {
      "image/png": "[encoded data removed]",
      "text/plain": [
       "<Figure size 432x288 with 1 Axes>"
      ]
     },
     "metadata": {},
     "output_type": "display_data"
    }
   ],
   "source": [
    "# Another helpful way to understand is the tree that comes out from its execution. This can be done by using bfs_tree\n",
    "tree_bfs = nx.bfs_tree(petersen, 0)\n",
    "\n",
    "# Now we plot the resulting tree\n",
    "plot_tree(tree_bfs)"
   ]
  },
  {
   "cell_type": "markdown",
   "metadata": {},
   "source": [
    "---\n",
    "\n",
    "### Depth First Search (DFS)\n"
   ]
  },
  {
   "cell_type": "markdown",
   "metadata": {},
   "source": [
    "As for BFS,  Networkx offers several __methods__ to perform DFS. Observe that,as previously explained, in the method definition, the arguments in square brackets [ ]  are optional.\n",
    "<ul>\n",
    "  <li> dfs_edges(G, source, [reverse, depth_limit]):  returns an iterator over edges in a depth-first-search starting at source, until max_depth </li>\n",
    "<li>dfs_tree(G, source, [reverse, depth_limit]): returns an oriented tree constructed from of a depth-first-search starting at source(</li>\n",
    "<li>dfs_predecessors(G, source, [depth_limit]): returns an iterator of predecessors in depth-first-search from source</li>\n",
    "    <li>dfs_successors(G, source, [depth_limit]): returns an iterator of successors in depth-first-search from source </li>    \n",
    "    \n",
    "</ul>\n",
    "Let us now observe the difference between BFS and DFS\n",
    "        "
   ]
  },
  {
   "cell_type": "code",
   "execution_count": 81,
   "metadata": {},
   "outputs": [
    {
     "name": "stdout",
     "output_type": "stream",
     "text": [
      "Result of dfs on edges: [(0, 1), (1, 2), (2, 3), (3, 4), (4, 9), (9, 6), (6, 8), (8, 5), (5, 7)]\n"
     ]
    }
   ],
   "source": [
    "# We use 0 as source node. \n",
    "edges_dfs = list(nx.dfs_edges(petersen, 0))\n",
    "print(\"Result of dfs on edges:\",edges_dfs)"
   ]
  },
  {
   "cell_type": "code",
   "execution_count": 82,
   "metadata": {},
   "outputs": [
    {
     "data": {
      "image/png": "[encoded data removed]",
      "text/plain": [
       "<Figure size 432x288 with 1 Axes>"
      ]
     },
     "metadata": {},
     "output_type": "display_data"
    }
   ],
   "source": [
    "tree_dfs = nx.dfs_tree(petersen, 0)\n",
    "\n",
    "# Now we plot the resulting tree\n",
    "plot_tree(tree_dfs)"
   ]
  },
  {
   "cell_type": "markdown",
   "metadata": {},
   "source": [
    "----\n",
    "### Shortest path with Dijkstra algorithm"
   ]
  },
  {
   "cell_type": "markdown",
   "metadata": {},
   "source": [
    "Let us now move to the Dijkstra algorithm to find the shortest path between two points.\n"
   ]
  },
  {
   "cell_type": "code",
   "execution_count": 83,
   "metadata": {},
   "outputs": [],
   "source": [
    "from random import random, choice\n",
    "from networkx.utils import pairwise"
   ]
  },
  {
   "cell_type": "code",
   "execution_count": 84,
   "metadata": {},
   "outputs": [
    {
     "data": {
      "image/png": "[encoded data removed]",
      "text/plain": [
       "<Figure size 432x288 with 1 Axes>"
      ]
     },
     "metadata": {},
     "output_type": "display_data"
    },
    {
     "data": {
      "text/plain": [
       "'# Compute Dijistra path\\npath =  nx.dijkstra_path(G, nodes[0], nodes[3])\\nprint(path)\\nplot_graph_and_highlight_dijistra(G, path)'"
      ]
     },
     "execution_count": 84,
     "metadata": {},
     "output_type": "execute_result"
    }
   ],
   "source": [
    "G = nx.Graph()\n",
    "\n",
    "n_nodes = 15\n",
    "\n",
    "# Generate nodes from 0 to n_nodes-1\n",
    "nodes = np.arange(n_nodes)\n",
    "G.add_nodes_from(nodes)\n",
    "\n",
    "# Build a path from nodes[0] to nodes[-1] to be sure it exists\n",
    "for p1, p2 in pairwise(nodes):\n",
    "    G.add_edge(p1, p2, weight=np.linalg.norm(p1-p2))\n",
    "\n",
    "    \n",
    "# Add other random edges\n",
    "new_edges = 25\n",
    "for _ in range(new_edges):\n",
    "    p1, p2 = choice(nodes), choice(nodes)\n",
    "    if p1 != nodes[0] and p2!= nodes[-1]:#avoid direct link\n",
    "        G.add_edge(p1, p2, weight=np.linalg.norm(p1-p2))\n",
    "    \n",
    "    \n",
    "plot_graph(G)\n",
    "\n",
    "\n",
    "'''# Compute Dijistra path\n",
    "path =  nx.dijkstra_path(G, nodes[0], nodes[3])\n",
    "print(path)\n",
    "plot_graph_and_highlight_dijistra(G, path)'''"
   ]
  },
  {
   "cell_type": "markdown",
   "metadata": {},
   "source": [
    "---\n",
    "### Exercise: Strongly Connected Components\n",
    "The goal of this exercise is to implement the following algorithm to compute the strongly connected components of a directed graph $G$. [See here](https://www.hackerearth.com/practice/algorithms/graphs/strongly-connected-components/tutorial/). \n",
    "\n",
    "In a directed graph a component is strongly connected if there is a directed path from any vertex to every other vertex of the component. The problem asks to is to partition the graph into maximal strongly connected components.\n",
    "\n",
    "NetworkX provides a method to compute the strongly connected components of a graph [here](https://networkx.github.io/documentation/stable/reference/algorithms/generated/networkx.algorithms.components.strongly_connected_components.html#networkx.algorithms.components.strongly_connected_components). \n",
    "\n",
    "Your goal is to implement the Kosaraju's Linear time algorithm to find Strongly Connected Component. \n",
    "The algorithm is described [here](https://www.hackerearth.com/practice/algorithms/graphs/strongly-connected-components/tutorial).\n",
    "\n",
    "It works in three steps. \n",
    "\n",
    "- Do a DFS on the original graph, keeping track of the DFS finish times of each node. This can be done with a stack, when some  finishes put the source vertex on the stack. This way node with highest finishing time will be on top of the stack.\n",
    "- Reverse the original graph, i.e., if there is an edge $(u,v)$ in the original graph, add the edge $(v,u)$ in the reversed one.\n",
    "-  Do DFS on the reversed graph, with the source vertex as the vertex on top of the stack. When DFS finishes, all nodes visited will form one Strongly Connected Component. If any more nodes remain unvisited, this means there are more Strongly Connected Component's, so pop vertices from top of the stack until a valid unvisited node is found. This will have the highest finishing time of all currently unvisited nodes.\n",
    "\n",
    "Take a look at [DFS traversal documentation](https://networkx.github.io/documentation/stable/reference/algorithms/traversal.html#module-networkx.algorithms.traversal.depth_first_search).\n",
    "Note that the finishing time of a node can be inferred from its position in the DFS tree. \n",
    "\n",
    "\n",
    "\n",
    "![alt text](scc.webp \"Example\")"
   ]
  },
  {
   "cell_type": "code",
   "execution_count": null,
   "metadata": {},
   "outputs": [],
   "source": []
  },
  {
   "cell_type": "code",
   "execution_count": 85,
   "metadata": {},
   "outputs": [
    {
     "data": {
      "image/png": "[encoded data removed]",
      "text/plain": [
       "<Figure size 432x288 with 1 Axes>"
      ]
     },
     "metadata": {},
     "output_type": "display_data"
    }
   ],
   "source": [
    "DG = nx.DiGraph()\n",
    "DG.add_edges_from([(0,1), (0,3), (1,4), (4,3), (3,1), (2,4), (2,5)])\n",
    "plot_graph(DG)"
   ]
  },
  {
   "cell_type": "code",
   "execution_count": 86,
   "metadata": {},
   "outputs": [],
   "source": [
    "## Your implementation goes here\n",
    "def kosaraju(G):\n",
    "    stack=list(nx.dfs_postorder_nodes(G)) #tengo traccia del finish time di ogni nodo\n",
    "    rev_G = G.reverse()\n",
    "    \n",
    "    visited=set() \n",
    "    scc=[] \n",
    "    \n",
    "    while len(stack) != 0: \n",
    "        temp=[]  #component temporaneo\n",
    "        U = stack.pop() #prendo l'ultimo nodo\n",
    "        preorder_nodes = list(nx.dfs_preorder_nodes(rev_G, U)) \n",
    "        \n",
    "        for i in preorder_nodes:\n",
    "            if i not in visited:\n",
    "                visited.add(i)\n",
    "                temp.append(i)\n",
    "                \n",
    "        if len(temp) != 0:\n",
    "            scc.append(set(temp))\n",
    "            \n",
    "    return scc"
   ]
  },
  {
   "cell_type": "code",
   "execution_count": null,
   "metadata": {},
   "outputs": [],
   "source": []
  },
  {
   "cell_type": "code",
   "execution_count": 87,
   "metadata": {},
   "outputs": [],
   "source": [
    "#Test your implementation\n",
    "scc = kosaraju(DG)\n",
    "\n",
    "for nodo in scc:\n",
    "    assert (nodo in list(nx.strongly_connected_components(DG))) == True, \"Fail\""
   ]
  },
  {
   "cell_type": "code",
   "execution_count": null,
   "metadata": {},
   "outputs": [],
   "source": []
  },
  {
   "cell_type": "code",
   "execution_count": null,
   "metadata": {},
   "outputs": [],
   "source": []
  },
  {
   "cell_type": "code",
   "execution_count": 88,
   "metadata": {},
   "outputs": [
    {
     "name": "stdout",
     "output_type": "stream",
     "text": [
      "[{2}, {5}, {0}, {1, 3, 4}]\n"
     ]
    }
   ],
   "source": [
    "print(kosaraju(DG))"
   ]
  },
  {
   "cell_type": "code",
   "execution_count": 89,
   "metadata": {},
   "outputs": [
    {
     "name": "stdout",
     "output_type": "stream",
     "text": [
      "[{1, 3, 4}, {0}, {5}, {2}]\n"
     ]
    }
   ],
   "source": [
    "print(list(nx.strongly_connected_components(DG))) #funzione della libreria networkx"
   ]
  },
  {
   "cell_type": "code",
   "execution_count": null,
   "metadata": {},
   "outputs": [],
   "source": []
  },
  {
   "cell_type": "code",
   "execution_count": null,
   "metadata": {},
   "outputs": [],
   "source": []
  },
  {
   "cell_type": "code",
   "execution_count": null,
   "metadata": {},
   "outputs": [],
   "source": []
  },
  {
   "cell_type": "code",
   "execution_count": null,
   "metadata": {},
   "outputs": [],
   "source": []
  },
  {
   "cell_type": "code",
   "execution_count": null,
   "metadata": {},
   "outputs": [],
   "source": []
  }
 ],
 "metadata": {
  "kernelspec": {
   "display_name": "Python 3",
   "language": "python",
   "name": "python3"
  },
  "language_info": {
   "codemirror_mode": {
    "name": "ipython",
    "version": 3
   },
   "file_extension": ".py",
   "mimetype": "text/x-python",
   "name": "python",
   "nbconvert_exporter": "python",
   "pygments_lexer": "ipython3",
   "version": "3.8.5"
  }
 },
 "nbformat": 4,
 "nbformat_minor": 2
}
