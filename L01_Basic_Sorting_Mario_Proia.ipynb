{
 "cells": [
  {
   "cell_type": "markdown",
   "metadata": {},
   "source": [
    "## Basic sorting algorithms\n",
    "----"
   ]
  },
  {
   "cell_type": "code",
   "execution_count": 44,
   "metadata": {},
   "outputs": [
    {
     "name": "stdout",
     "output_type": "stream",
     "text": [
      "Librerie importate!\n"
     ]
    }
   ],
   "source": [
    "import math\n",
    "import numpy as np\n",
    "import random\n",
    "import matplotlib.pyplot as plt\n",
    "plt.style.use('classic')\n",
    "%matplotlib inline\n",
    "\n",
    "import seaborn as sns\n",
    "sns.set()\n",
    "\n",
    "print(\"Librerie importate!\")"
   ]
  },
  {
   "cell_type": "markdown",
   "metadata": {},
   "source": [
    "### Exercise: Selection Sort\n",
    "Write the function ```SelectionSort(coll)``` that returns a sorted list with the elements in *coll*. \n",
    "You have to implements Selection Sort algorithm."
   ]
  },
  {
   "cell_type": "code",
   "execution_count": 45,
   "metadata": {},
   "outputs": [],
   "source": [
    "def SelectionSort(coll):\n",
    "    A = list()\n",
    "    for i in coll:\n",
    "        A.append(i)\n",
    "        \n",
    "    for i in range(len(A)-1):\n",
    "        min_pos=i\n",
    "        for j in range(i+1, len(A)):\n",
    "            if A[j] < A[min_pos]:\n",
    "                min_pos=j\n",
    "        A[i], A[min_pos] = A[min_pos], A[i]        \n",
    "    return A"
   ]
  },
  {
   "cell_type": "code",
   "execution_count": 46,
   "metadata": {},
   "outputs": [
    {
     "name": "stdout",
     "output_type": "stream",
     "text": [
      "Lista non ordinata:  [56 69 76  5 12 80 22 27 81 41]\n",
      "Lista ordinata:  [5, 12, 22, 27, 41, 56, 69, 76, 80, 81]\n"
     ]
    }
   ],
   "source": [
    "my_list = np.random.randint(1,101,10) \n",
    "print(\"Lista non ordinata: \", my_list)\n",
    "\n",
    "print(\"Lista ordinata: \", SelectionSort(my_list))"
   ]
  },
  {
   "cell_type": "code",
   "execution_count": null,
   "metadata": {},
   "outputs": [],
   "source": []
  },
  {
   "cell_type": "code",
   "execution_count": 47,
   "metadata": {},
   "outputs": [
    {
     "name": "stdout",
     "output_type": "stream",
     "text": [
      "[0, 1, 2, 3, 4, 5, 6, 7, 8, 9]\n"
     ]
    }
   ],
   "source": [
    "## Check correctdness your implementation!\n",
    "\n",
    "def test_sortedness(my_list):\n",
    "    return my_list == sorted(my_list)\n",
    "\n",
    "my_list = list(range(10))[::-1]\n",
    "\n",
    "print(SelectionSort(my_list))\n",
    "\n",
    "#assert is a keyword that checks if a condition is satisfied\n",
    "assert test_sortedness( SelectionSort(my_list) ), \"Must be increasing!\""
   ]
  },
  {
   "cell_type": "markdown",
   "metadata": {},
   "source": [
    "### Exercise: Insertion Sort\n",
    "Write the function ```InsertionSort(coll)``` that returns a sorted list with the elements in *coll*. \n",
    "You have to implements Insertion Sort algorithm."
   ]
  },
  {
   "cell_type": "code",
   "execution_count": 48,
   "metadata": {},
   "outputs": [],
   "source": [
    "def InsertionSort(coll):\n",
    "    A = list()\n",
    "    for i in coll:\n",
    "        A.append(i)\n",
    "    \n",
    "    for j in range(1, len(A)):\n",
    "        key = A[j]\n",
    "        i=j-1\n",
    "        while i>=0 and A[i]>key:\n",
    "            A[i+1] = A[i]\n",
    "            i=i-1\n",
    "        A[i+1] = key\n",
    "    return A"
   ]
  },
  {
   "cell_type": "code",
   "execution_count": 49,
   "metadata": {},
   "outputs": [
    {
     "name": "stdout",
     "output_type": "stream",
     "text": [
      "Lista non ordinata:  [81 27 23 82 35 24 70 14 37 39]\n",
      "Lista ordinata:  [14, 23, 24, 27, 35, 37, 39, 70, 81, 82]\n"
     ]
    }
   ],
   "source": [
    "my_list = np.random.randint(1,101,10) \n",
    "print(\"Lista non ordinata: \", my_list)\n",
    "\n",
    "print(\"Lista ordinata: \", InsertionSort(my_list))"
   ]
  },
  {
   "cell_type": "code",
   "execution_count": 50,
   "metadata": {},
   "outputs": [
    {
     "name": "stdout",
     "output_type": "stream",
     "text": [
      "[0, 1, 2, 3, 4, 5, 6, 7, 8, 9]\n"
     ]
    }
   ],
   "source": [
    "## Check correctdness your implementation!\n",
    "\n",
    "my_list = list(range(10))[::-1]\n",
    "\n",
    "print(InsertionSort(my_list))\n",
    "\n",
    "assert test_sortedness( InsertionSort(my_list) ), \"Must be increasing!\""
   ]
  },
  {
   "cell_type": "markdown",
   "metadata": {},
   "source": [
    "### Comparators\n",
    "\n",
    "You have learned that many sorting are based on comparison. \n",
    "They obtain a ordered sequence by comparing elements. \n",
    "\n",
    "It's often very useful to define our own way to compare elements. Any comparator that implies a total order \n",
    "is a good one. \n",
    "\n",
    "For example, assume you have a list of tuple. Each tuple stores information about a person. \n",
    "If you sort this list, the final ordering is *\"lexicographic\"* one. First we compare the first component, \n",
    "then the second component for tuples with the same first component, and so on.\n",
    " \n",
    "However, you may want impose your own way to order. For example, sort person by name, then increasingly by age, and so on. \n",
    "\n",
    "This is possible by implementing your own comparator and let ```.sort()``` and ```sorted()``` to use it."
   ]
  },
  {
   "cell_type": "markdown",
   "metadata": {},
   "source": [
    "### How? \n",
    "You know that comparison-based algorithms sort a sequence by comparing pairs of elements. \n",
    "Thus, a comparator is a function that takes two elements, say a and b, and compare them.\n",
    "\n",
    "The result of a comparison is a value smaller than $0$, if a must precede b in the ordering. \n",
    "The result is larger than $0$, if b must precede a. The result is $0$, if we do not care."
   ]
  },
  {
   "cell_type": "markdown",
   "metadata": {},
   "source": [
    "For example, we can use the following comparator to sort numbers in reverse order."
   ]
  },
  {
   "cell_type": "code",
   "execution_count": 51,
   "metadata": {},
   "outputs": [],
   "source": [
    "def decrescente(a, b): \n",
    "    return b-a # a is before if larger that b\n",
    "\n",
    "def crescente(a, b): \n",
    "    return a-b"
   ]
  },
  {
   "cell_type": "markdown",
   "metadata": {},
   "source": [
    "To use our own comparator with ```.sort()``` and ```sorted()```, we have to use ```functools.cmp_to_key(cmp)```function. This converts our comparator to a function that can be used as a argument for parameter ```key```. \n"
   ]
  },
  {
   "cell_type": "code",
   "execution_count": 52,
   "metadata": {},
   "outputs": [
    {
     "name": "stdout",
     "output_type": "stream",
     "text": [
      "[9, 8, 7, 6, 5, 4, 3, 2, 1, 0]\n",
      "[0, 1, 2, 3, 4, 5, 6, 7, 8, 9]\n",
      "\n",
      "[7, 4, 3, 2]\n",
      "[2, 3, 4, 7]\n"
     ]
    }
   ],
   "source": [
    "import functools\n",
    "\n",
    "print(sorted(list(range(10)), key=functools.cmp_to_key(decrescente)))\n",
    "print(sorted(list(range(10)), key=functools.cmp_to_key(crescente)))\n",
    "print()\n",
    "print(sorted([3,7,4,2], key=functools.cmp_to_key(decrescente)))\n",
    "print(sorted([3,7,4,2], key=functools.cmp_to_key(crescente)))"
   ]
  },
  {
   "cell_type": "markdown",
   "metadata": {},
   "source": [
    "\n",
    "------\n",
    "### Exercise: Strange orderings\n",
    "Given a list, write and test comparators to obtain the following orderings:\n",
    "- Even number precede odd ones. Even numbers are sorted in INCREASING order while odd ones are sorted in DECREASING order.\n",
    "- Strings are sorted in DECREASING order based on their lengths. Strings having the same length are sorted in DECREASING lexicographic order. "
   ]
  },
  {
   "cell_type": "code",
   "execution_count": 53,
   "metadata": {},
   "outputs": [],
   "source": [
    "my_list = list(range(10))\n",
    "my_list2 = [\"a\", \"b\", \"aba\", \"cad\", \"zzzz\", \"aaaa\"]"
   ]
  },
  {
   "cell_type": "code",
   "execution_count": 54,
   "metadata": {},
   "outputs": [],
   "source": [
    "def cmp_numeri(a,b):\n",
    "    if a%2 == 0 and b%2 != 0:\n",
    "        return -1 #pari prima di dispari\n",
    "    if b%2 == 0 and a%2 != 0:\n",
    "        return 1 #dispari dopo pari\n",
    "    if a%2 == 0 and b%2 == 0:\n",
    "        return(a-b) #ordine crescente pari\n",
    "    if a%2 !=0 and b%2 !=0:\n",
    "        return (b-a) #ordine decrescente dispari\n",
    "\n",
    "def cmp_lettere(a,b):\n",
    "    if len(a) == len(b):\n",
    "        i = 0\n",
    "        while i <= len(a):\n",
    "            if a[i] > b[i]:\n",
    "                i+=1\n",
    "                return -1\n",
    "            elif a[i] < b[i]:\n",
    "                i+=1\n",
    "                return 1\n",
    "            else:\n",
    "                i+=1\n",
    "    elif len(a) > len(b): \n",
    "        return -1 #la stringa a va prima di b\n",
    "    elif len(a) < len(b):\n",
    "        return 1 #la stringa b va prima di a"
   ]
  },
  {
   "cell_type": "code",
   "execution_count": 55,
   "metadata": {},
   "outputs": [
    {
     "name": "stdout",
     "output_type": "stream",
     "text": [
      "[0, 2, 4, 6, 8, 9, 7, 5, 3, 1]\n",
      "['zzzz', 'aaaa', 'cad', 'aba', 'b', 'a']\n"
     ]
    }
   ],
   "source": [
    "print( sorted(my_list, key=functools.cmp_to_key(cmp_numeri)) )\n",
    "print( sorted(my_list2, key=functools.cmp_to_key(cmp_lettere)) )"
   ]
  },
  {
   "cell_type": "markdown",
   "metadata": {},
   "source": [
    "### Exercise: Insertion Sort with a comparator\n",
    "Write the function ```InsertionSort(coll, cmp)``` that returns a sorted list with the elements in *coll* using \n",
    "```cmp```as a comparator."
   ]
  },
  {
   "cell_type": "code",
   "execution_count": 56,
   "metadata": {},
   "outputs": [],
   "source": [
    "def cmp_insertion(a,b):\n",
    "    if a == b:\n",
    "        return -1 #mantiene l'algoritmo stable\n",
    "    elif a > b:\n",
    "        return 1\n",
    "    return -1\n",
    "\n",
    "def InsertionSort1(coll, cmp):\n",
    "    A=[]\n",
    "    for elem in coll:\n",
    "        A.append(elem)\n",
    "        \n",
    "    for j in range(1, len(A)):\n",
    "        key= A[j]\n",
    "        i= j-1\n",
    "        while i >= 0 and (cmp(A[i],key)>0):\n",
    "            A[i+1] = A[i]\n",
    "            i-= 1\n",
    "        A[i+1] = key\n",
    "    return A"
   ]
  },
  {
   "cell_type": "code",
   "execution_count": 57,
   "metadata": {},
   "outputs": [
    {
     "name": "stdout",
     "output_type": "stream",
     "text": [
      "Lista non ordinata:  [92 59  4 50 75 94 39 60 66 47]\n",
      "Lista ordinata:  [4, 39, 47, 50, 59, 60, 66, 75, 92, 94]\n"
     ]
    }
   ],
   "source": [
    "my_list = np.random.randint(1,101,10) \n",
    "print(\"Lista non ordinata: \", my_list)\n",
    "\n",
    "print(\"Lista ordinata: \", InsertionSort1(my_list, cmp_insertion))"
   ]
  },
  {
   "cell_type": "code",
   "execution_count": 58,
   "metadata": {},
   "outputs": [],
   "source": [
    "## Test here your implementation by using comparators from previous exercise.\n",
    "\n",
    "def test_sortedness(my_list, cmp):\n",
    "    return InsertionSort1(my_list, cmp_insertion) == sorted(my_list, key = functools.cmp_to_key(cmp_insertion))\n",
    "\n",
    "assert test_sortedness(my_list, cmp_numeri), \"Must be sorted\"\n",
    "assert test_sortedness(my_list2, cmp_lettere), \"Must be sorted\""
   ]
  },
  {
   "cell_type": "markdown",
   "metadata": {},
   "source": [
    "-----\n",
    "\n",
    "### Exercise: Intersection of two lists\n",
    "Write a function ```intersection_slow(l1, l2)``` which returns the intersection of the two lists l1 and l2.\n",
    "\n",
    "Use the trivial algorithms that runs in $\\Theta(|l1|\\times|l2|)$. "
   ]
  },
  {
   "cell_type": "code",
   "execution_count": 59,
   "metadata": {},
   "outputs": [],
   "source": [
    "def intersection_slow(l1, l2):\n",
    "    l3=[]\n",
    "    for i in range(len(l1)):\n",
    "        for j in range(len(l2)):\n",
    "            if l1[i]==l2[j]:\n",
    "                l3.append(l1[i])\n",
    "    return l3"
   ]
  },
  {
   "cell_type": "code",
   "execution_count": 60,
   "metadata": {},
   "outputs": [],
   "source": [
    "## Test here your implementation \n",
    "\n",
    "l1 = [3, 5, 1, 2]\n",
    "l2 = [1, 4, 6, 2]\n",
    "\n",
    "assert set(intersection_slow(l1, l2)) == set([1, 2]), \"Urca\""
   ]
  },
  {
   "cell_type": "markdown",
   "metadata": {},
   "source": [
    "### Parallel loops VS sequential loops"
   ]
  },
  {
   "cell_type": "code",
   "execution_count": 61,
   "metadata": {},
   "outputs": [
    {
     "data": {
      "text/plain": [
       "'# Pseudo code\\n\\nfor i: 1 to |l1|\\n    for j: 1 to |l2|\\n        do stuff\\n        \\nO(|l1|*|l2|) == O(n^2) == VERY BAD'"
      ]
     },
     "execution_count": 61,
     "metadata": {},
     "output_type": "execute_result"
    }
   ],
   "source": [
    "'''# Pseudo code\n",
    "\n",
    "for i: 1 to |l1|\n",
    "    for j: 1 to |l2|\n",
    "        do stuff\n",
    "        \n",
    "O(|l1|*|l2|) == O(n^2) == VERY BAD'''"
   ]
  },
  {
   "cell_type": "code",
   "execution_count": 62,
   "metadata": {},
   "outputs": [
    {
     "data": {
      "text/plain": [
       "'# Pseudo code\\n\\nfor i: 1 to |l1|\\n    do stuff\\n    \\nfor j: 1 to |l2|\\n     do stuff\\n        \\nO(|l1|+|l2|) == O(n) == VERY GOOD'"
      ]
     },
     "execution_count": 62,
     "metadata": {},
     "output_type": "execute_result"
    }
   ],
   "source": [
    "'''# Pseudo code\n",
    "\n",
    "for i: 1 to |l1|\n",
    "    do stuff\n",
    "    \n",
    "for j: 1 to |l2|\n",
    "     do stuff\n",
    "        \n",
    "O(|l1|+|l2|) == O(n) == VERY GOOD'''"
   ]
  },
  {
   "cell_type": "markdown",
   "metadata": {},
   "source": [
    "----\n",
    "### Exercise: Faster intersection of two lists\n",
    "Write a function ```intersection(l1, l2)``` which returns the intersection of the two lists l1 and l2.\n",
    "\n",
    "Assume that both l1 and l2 are sorted!"
   ]
  },
  {
   "cell_type": "code",
   "execution_count": 63,
   "metadata": {},
   "outputs": [],
   "source": [
    "def intersection(l1,l2):\n",
    "    i=0\n",
    "    j=0\n",
    "    l3=[]\n",
    "    \n",
    "    while i<len(l1) and j<len(l2):\n",
    "        if l1[i]==l2[j]:\n",
    "            l3.append(l1[i])\n",
    "            i+=1\n",
    "            j+=1\n",
    "        elif l1[i]<l2[j]:\n",
    "            i+=1\n",
    "        else:\n",
    "            j+=1\n",
    "    return l3"
   ]
  },
  {
   "cell_type": "code",
   "execution_count": 64,
   "metadata": {},
   "outputs": [],
   "source": [
    "## Test here your implementation \n",
    "\n",
    "l1 = sorted([3, 5, 1, 2])\n",
    "l2 = sorted([1, 4, 6, 2])\n",
    "\n",
    "assert set(intersection(l1, l2)) == set([1, 2]), \"Urca\""
   ]
  },
  {
   "cell_type": "markdown",
   "metadata": {},
   "source": [
    "----\n",
    "### Exercise: You own search engine\n",
    "You are given a collection of texts and you want to build your own search engine, people at Google are already very scared!\n",
    "\n",
    "Modern search engines are based on a data structure called *Inverted Index*. \n",
    "\n",
    "Each document of the collection is assigned an identifier, starting from 0.\n",
    "An inverted index stores a list, called *inverted list*, for each term of the collection.\n",
    "The list for a term *t* contains the identifiers of all the documents containing term *t*. The list is sorted.\n",
    "\n",
    "For example,\n",
    "\n",
    "````\n",
    "C = [\"dog cat elephant monkey\",  \"dog lion tiger\", \"fish dog dog cat cow\"]\n",
    "\n",
    "````\n",
    "\n",
    "The list of term *cat* is [0,2], the list of *elephant* is [0].\n",
    "\n",
    "Given two terms, an AND query reports all the documents containing both terms. For example, \n",
    "*query(\"cat\", \"dog\"), the result is [0, 2].\n",
    "\n",
    "You goal is to implement a simple search engine. Do the following. \n",
    "\n",
    "- Given the collection, build a dictionary that maps each term to its inverted list. Observe that \n",
    "each document occurs at most once in each list. \n",
    "- Implement a function *query* which answers an AND query. "
   ]
  },
  {
   "cell_type": "code",
   "execution_count": 65,
   "metadata": {},
   "outputs": [],
   "source": [
    "def build_index(C):\n",
    "    index = dict()\n",
    "    for pos,frase in enumerate(C):\n",
    "        for term in frase.split():\n",
    "            if term not in index:\n",
    "                index[term] = []\n",
    "            index[term].append(pos)\n",
    "    return index         \n",
    "\n",
    "def query(index, term1, term2):\n",
    "    if term1 and term2 in list(index.keys()):\n",
    "        l1 = index[term1]\n",
    "        l2 = index[term2]\n",
    "    return(intersection(l1, l2))"
   ]
  },
  {
   "cell_type": "code",
   "execution_count": 66,
   "metadata": {},
   "outputs": [],
   "source": [
    "## Test here your implementation \n",
    "\n",
    "C = [\"dog cat elephant monkey\", \"dog lion tiger\", \"fish dog dog cat cow\"]\n",
    "\n",
    "index = build_index(C)\n",
    "assert query(index, \"cat\", \"dog\") == [0, 2], \"Urca\""
   ]
  },
  {
   "cell_type": "code",
   "execution_count": null,
   "metadata": {},
   "outputs": [],
   "source": []
  }
 ],
 "metadata": {
  "kernelspec": {
   "display_name": "Python 3",
   "language": "python",
   "name": "python3"
  },
  "language_info": {
   "codemirror_mode": {
    "name": "ipython",
    "version": 3
   },
   "file_extension": ".py",
   "mimetype": "text/x-python",
   "name": "python",
   "nbconvert_exporter": "python",
   "pygments_lexer": "ipython3",
   "version": "3.8.5"
  }
 },
 "nbformat": 4,
 "nbformat_minor": 2
}
