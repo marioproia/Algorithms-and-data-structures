{
 "cells": [
  {
   "cell_type": "markdown",
   "metadata": {},
   "source": [
    "## Hashing"
   ]
  },
  {
   "cell_type": "code",
   "execution_count": 1,
   "metadata": {},
   "outputs": [],
   "source": [
    "## Define some function useful for testing\n",
    "import random\n",
    "\n",
    "## generate an array of n random integers up to b\n",
    "def get_random_array(n, b = 50):\n",
    "    return [random.randint(0, b) for _ in range(n)]"
   ]
  },
  {
   "cell_type": "code",
   "execution_count": null,
   "metadata": {},
   "outputs": [],
   "source": []
  },
  {
   "cell_type": "markdown",
   "metadata": {},
   "source": [
    "---\n",
    "\n",
    "### Open Addressing with linear probing\n",
    "\n",
    "[Open addressing](https://en.wikipedia.org/wiki/Open_addressing) is a collision resolution technique used for handling collisions in hashing. \n",
    "\n",
    "All the items are stored in a table of size $\\alpha n$, where $n$ is the number of keys and $\\alpha > 1$ is the load factor.\n",
    "\n",
    "Initially, the table contains only a special value ```None``` which says that the entry is empty. Another \n",
    "special value, say character ```'D'``` is used to mark a entry that contained a key that has been deleted.\n",
    "\n",
    "A hash functon $h()$ is used to specify the order of entries to probe for a key to be inserted/searched/deleted. \n",
    "We start by probing $h(k)$ and, with linear probing, the sequence of probes $S(k)$ is $h(k), h(k)+1, h(k)+2, \\ldots$ , modulo $\\alpha n$.\n",
    "\n",
    "- **Insert** adds the key in the first empty slot that we found with positions in $S(k)$.\n",
    "- **Lookup** is performed by checking positions in $S(k)$ until we find either the key or ```None```.\n",
    "- **Delete** is performed by first sesrching the key and then by replacing it with ```'D'```. Why don't we use ```None``` instead? \n",
    "\n",
    "\n",
    "![alt text](LinearProbing.jpg \"Example\")"
   ]
  },
  {
   "cell_type": "markdown",
   "metadata": {},
   "source": [
    "### Exercise: Open Addressing with linear probing\n",
    "Complete the implementation below by implementing ```Lookup```and ```Delete```.\n",
    "\n",
    "\n",
    "**Optional:** Try to implement quadratic probing. This is the technique employed by Python's set and dictionary.  "
   ]
  },
  {
   "cell_type": "code",
   "execution_count": 2,
   "metadata": {},
   "outputs": [],
   "source": [
    "## Your implementation goes here\n",
    "\n",
    "class linear_probing_set:\n",
    "    def __init__(self, size):\n",
    "        \n",
    "        self.T = [None]*size\n",
    "        self.prime = 993319\n",
    "        self.a = random.randint(2, self.prime-1)\n",
    "        self.b = random.randint(2, self.prime-1)\n",
    "        self.n_keys = 0\n",
    "        \n",
    "    def insert(self, key): #fix len(T)< self.n.keys if you want \n",
    "        if self.lookup(key): # per evitare duplicati. Impiega più tempo del loop sotto= si ferma a None, non a D \n",
    "            return\n",
    "        h = self.hash(key)\n",
    "        while self.T[h] != None and self.T[h] != 'D':\n",
    "            h += 1\n",
    "            if h == len(self.T):\n",
    "                h = 0\n",
    "        self.T[h] = key\n",
    "        self.n_keys += 1\n",
    "    \n",
    "    # Return True if key is in the set, False otherwise\n",
    "    def lookup(self, key):\n",
    "        h=self.hash(key)\n",
    "        visite = 0\n",
    "        while self.T[h] != None:\n",
    "            if self.T[h] == key:\n",
    "                return True\n",
    "            h+=1\n",
    "            visite += 1\n",
    "            if h==len(self.T):\n",
    "                h=0\n",
    "            if visite==len(self.T): #per non ricercare all'infinito\n",
    "                return False\n",
    "        return False\n",
    "    \n",
    "    def delete(self, key):\n",
    "        h=self.hash(key)\n",
    "        visite=0\n",
    "        while self.T[h] != None:\n",
    "            if self.T[h] == key:\n",
    "                self.T[h]='D'\n",
    "                self.n_keys-=1\n",
    "                return h\n",
    "            h+=1\n",
    "            visite+=1\n",
    "            if h==len(self.T):\n",
    "                h=0\n",
    "            if visite==len(self.T):\n",
    "                return False\n",
    "        return False  \n",
    "    \n",
    "    \n",
    "    def hash(self, key):\n",
    "        return ((self.a*key + self.b) % self.prime) % len(self.T)\n",
    "    \n",
    "    def len(self):\n",
    "        return self.n_keys"
   ]
  },
  {
   "cell_type": "code",
   "execution_count": null,
   "metadata": {},
   "outputs": [],
   "source": []
  },
  {
   "cell_type": "code",
   "execution_count": 3,
   "metadata": {},
   "outputs": [],
   "source": [
    "## Test your implementation\n",
    "\n",
    "n = 10000\n",
    "\n",
    "a = get_random_array(n, n)\n",
    "\n",
    "queries = get_random_array(n, n)\n",
    "\n",
    "lp_set = linear_probing_set(2*n)\n",
    "std_set = set()\n",
    "\n",
    "for key in a:\n",
    "    lp_set.insert(key)\n",
    "    std_set.add(key)\n",
    "\n",
    "assert len(std_set) == lp_set.len(), \"Fail len!\"     \n",
    "    \n",
    "for key in a:\n",
    "    assert lp_set.lookup(key) == True, \"Lookup fail a\"\n",
    "\n",
    "for key in queries:\n",
    "    assert lp_set.lookup(key) == (key in std_set), \"Lookup fail queries\"\n",
    "    \n",
    "for key in a[:300]:\n",
    "    lp_set.delete(key)\n",
    "    try:\n",
    "        std_set.remove(key)\n",
    "    except:\n",
    "        pass # the key has been already removed\n",
    "          \n",
    "    assert lp_set.lookup(key) == (key in std_set), \"Lookup fail delete\""
   ]
  },
  {
   "cell_type": "code",
   "execution_count": 4,
   "metadata": {},
   "outputs": [
    {
     "name": "stdout",
     "output_type": "stream",
     "text": [
      "16.6 ms ± 364 µs per loop (mean ± std. dev. of 7 runs, 100 loops each)\n",
      "1.28 ms ± 4.18 µs per loop (mean ± std. dev. of 7 runs, 1000 loops each)\n"
     ]
    }
   ],
   "source": [
    "%timeit for key in queries: lp_set.lookup(key)\n",
    "    \n",
    "%timeit for key in queries: key in std_set"
   ]
  },
  {
   "cell_type": "markdown",
   "metadata": {},
   "source": [
    "----\n",
    "### Hashing with Chains\n",
    "Instead of just storing the elements in the slots in the table $T$, let every slot be a list which contains all the elements which are in the table and map to that slot. Our operations now become:\n",
    "\n",
    "- `Insert` $(k)$: hash $k$ to an index $i$ in the table. You may want to check if $k$ is already in the set first.\n",
    "- `Lookup` $(k)$: search for $k$ in the list by iterating through all the list.\n",
    "- `Delete` $(k)$: search for $k$ and then remove it from the list.\n",
    "\n",
    "Lookup and Delete takes $O(s)$ time where $s$ is the size of the list. We define $\\alpha = \\frac{n}{m}$ as the **load factor**. If we assume simple uniform hashing, then each element has equal probability to go into any slot. So after $n$ independent elements have been inserted we have and expected length of $\\frac{n}{m} = \\alpha$ for each chain by linearity of expectation. So the run time of all the above operations is time to hash + time to do these operations which is $O(1 + \\alpha)$.\n",
    "\n",
    "![alt text](Chaining.gif \"Example\")"
   ]
  },
  {
   "cell_type": "markdown",
   "metadata": {},
   "source": [
    "### Exercise: Hashing with Chains\n",
    "Complete the implementation below by implementing ```Lookup``` and ```Delete```."
   ]
  },
  {
   "cell_type": "code",
   "execution_count": 5,
   "metadata": {},
   "outputs": [],
   "source": [
    "## Your implementation goes here\n",
    "\n",
    "class chaining_set:\n",
    "    def __init__(self, size):\n",
    "        \n",
    "        self.T = []\n",
    "        for _ in range(size):\n",
    "            self.T.append([]) \n",
    "        ## why not self.T = [[]] * size ?\n",
    "            \n",
    "        self.prime = 993319\n",
    "        self.a = random.randint(2, self.prime-1)\n",
    "        self.b = random.randint(2, self.prime-1)\n",
    "        self.n_keys = 0\n",
    "        \n",
    "    def insert(self, key):\n",
    "        if self.lookup(key):\n",
    "            return\n",
    "        \n",
    "        h = self.hash(key)\n",
    "        self.T[h].append(key)\n",
    "        self.n_keys += 1\n",
    "    \n",
    "    # return True if key is in the set, False otherwise\n",
    "    def lookup(self, key):\n",
    "        h=self.hash(key)\n",
    "        i=0\n",
    "        for i in range(len(self.T[h])):\n",
    "            if self.T[h][i] == key:\n",
    "                return True\n",
    "            if i==len(self.T[h]):\n",
    "                return False\n",
    "        return False\n",
    "            \n",
    "    \n",
    "    def delete(self, key):\n",
    "        h = self.hash(key)\n",
    "        for i in range(len(self.T[h])):\n",
    "            if self.T[h][i] == key:\n",
    "                self.T[h][i], self.T[h][-1] = self.T[h][-1], self.T[h][i]\n",
    "                self.T[h].pop() #rimuovo l'elemento da eliminare che ho messo all'ultima posizione, così non modifico la posizione degli altri elementi\n",
    "                self.n_keys-=1\n",
    "                return True\n",
    "        return None \n",
    "            \n",
    "    def hash(self, key):\n",
    "        return ((self.a*key + self.b) % self.prime) % len(self.T)\n",
    "    \n",
    "    def len(self):\n",
    "        return self.n_keys"
   ]
  },
  {
   "cell_type": "code",
   "execution_count": 6,
   "metadata": {},
   "outputs": [],
   "source": [
    "## Test your implementation\n",
    "\n",
    "n = 10000\n",
    "\n",
    "a = get_random_array(n, n)\n",
    "\n",
    "queries = get_random_array(n, n)\n",
    "\n",
    "c_set = chaining_set(2*n)\n",
    "std_set = set()\n",
    "\n",
    "for key in a:\n",
    "    c_set.insert(key)\n",
    "    std_set.add(key)\n",
    "\n",
    "assert len(std_set) == c_set.len(), \"Fail len!\"     \n",
    "    \n",
    "for key in a:\n",
    "    assert c_set.lookup(key) == True, \"Lookup fail a\"\n",
    "\n",
    "    \n",
    "for key in queries:\n",
    "    assert c_set.lookup(key) == (key in std_set), \"Lookup fail queries\"\n",
    "\n",
    "for key in a[:300]:\n",
    "    c_set.delete(key)\n",
    "    try:\n",
    "        std_set.remove(key)\n",
    "    except:\n",
    "        pass # the key has been already removed\n",
    "          \n",
    "    assert c_set.lookup(key) == (key in std_set), \"Lookup fail delete\"  "
   ]
  },
  {
   "cell_type": "code",
   "execution_count": 7,
   "metadata": {},
   "outputs": [
    {
     "name": "stdout",
     "output_type": "stream",
     "text": [
      "16 ms ± 156 µs per loop (mean ± std. dev. of 7 runs, 100 loops each)\n",
      "1.3 ms ± 4.29 µs per loop (mean ± std. dev. of 7 runs, 1000 loops each)\n"
     ]
    }
   ],
   "source": [
    "%timeit for key in queries: c_set.lookup(key)\n",
    "    \n",
    "%timeit for key in queries: key in std_set"
   ]
  },
  {
   "cell_type": "markdown",
   "metadata": {},
   "source": [
    "----\n",
    "\n",
    "### Exercise: Dictionary\n",
    "Modify the previous code to implement a dictionary, i.e., store a value together with each key. \n",
    "You need to implement methods:\n",
    "- ```Insert(key, value)```: insert the key with its value. If the key was already present, change its value;\n",
    "- ```Delete(key)```: remove the key;\n",
    "- ```Lookup(key)```: return True if the key is present, False otherwise;\n",
    "- ```Value(key)```: return the value associated with the key. It returns None, if the key is not present.\n",
    "\n",
    "I suggest to store pairs (key, value) within the lists.\n",
    "\n",
    "\n",
    "**Optional**. \n",
    "Implement ```keys()```, ```values()```, and ```items()``` which allows you to iterate over keys, values, and pairs (key, value) respectively. You have to use ```yield``` to implement each generator.  "
   ]
  },
  {
   "cell_type": "code",
   "execution_count": 8,
   "metadata": {},
   "outputs": [],
   "source": [
    "## Your implementation goes here\n",
    "\n",
    "class Dizionario:\n",
    "    def __init__(self, size):\n",
    "        \n",
    "        self.T = []\n",
    "        for _ in range(size):\n",
    "            self.T.append([]) \n",
    "            \n",
    "        self.prime = 993319\n",
    "        self.a = random.randint(2, self.prime-1)\n",
    "        self.b = random.randint(2, self.prime-1)\n",
    "        self.n_keys = 0\n",
    "        \n",
    "             \n",
    "    def insert(self, key, value):\n",
    "        h = self.hash(key)\n",
    "        esiste = False\n",
    "        \n",
    "        lista = self.T[h]\n",
    "        for tup_pos in range(len(lista)):\n",
    "            if lista[tup_pos][0] == key: #la chiave è già presente\n",
    "                esiste = True \n",
    "                lista[tup_pos] = (key, value)\n",
    "                break\n",
    "        if esiste == False: #evito i duplicati\n",
    "            lista.append((key, value))\n",
    "            self.n_keys+=1\n",
    "    \n",
    "    \n",
    "    # return True if key is in the set, False otherwise\n",
    "    def lookup(self, key):\n",
    "        h = self.hash(key)\n",
    "        lista = self.T[h]\n",
    "        for i in range(len(lista)):\n",
    "            if lista[i][0] == key:\n",
    "                return True\n",
    "        return False\n",
    "            \n",
    "    \n",
    "    def delete(self, key):\n",
    "        h=self.hash(key)\n",
    "        i=0\n",
    "        lista = self.T[h]\n",
    "        for i in range(len(lista)):\n",
    "            if lista[i][0] == key:\n",
    "                lista[i], self.T[h][-1] = self.T[h][-1], lista[i]\n",
    "                self.T[h].pop() #rimuovo l'elemento da eliminare che ho messo all'ultima posizione, così non modifico la posizione degli altri elementi\n",
    "                self.n_keys-=1\n",
    "                return i\n",
    "            if i==len(lista):\n",
    "                return None\n",
    "        return None \n",
    "    \n",
    "    \n",
    "    def value(self, key):\n",
    "        h = self.hash(key)\n",
    "        lista = self.T[h]\n",
    "        for i in range(len(lista)):\n",
    "            if lista[i][0] == key:\n",
    "                return lista[i][1]\n",
    "        return None\n",
    "    \n",
    "    \n",
    "    def hash(self, key):\n",
    "        return ((self.a*key + self.b) % self.prime) % len(self.T)\n",
    "    \n",
    "    \n",
    "    def len(self):\n",
    "        return self.n_keys"
   ]
  },
  {
   "cell_type": "code",
   "execution_count": 9,
   "metadata": {},
   "outputs": [],
   "source": [
    "## Write here some tests to test your implementation\n",
    "n = 100\n",
    "\n",
    "chiavi = get_random_array(n, n)\n",
    "valori = get_random_array(n, n)\n",
    "coppia = list(zip(chiavi, valori))\n",
    "\n",
    "diz = Dizionario(2*n)\n",
    "test_diz = dict()\n",
    "\n",
    "for key, value in coppia:\n",
    "    diz.insert(key, value)\n",
    "    test_diz[key] = value\n",
    "\n",
    "    \n",
    "assert len(test_diz) == diz.len(), \"Fail len!\"     \n",
    "    \n",
    "for key in chiavi:\n",
    "    assert diz.lookup(key) == True, \"Lookup fail key\"\n",
    "    \n",
    "for key in chiavi[:300]:\n",
    "    diz.delete(key)\n",
    "    test_diz.pop(key, None)\n",
    "    assert diz.lookup(key) == (key in test_diz), 'Lookup fail delete'\n",
    "\n",
    "for key in chiavi:\n",
    "    assert diz.value(key) == test_diz.get(key), 'Value fail queries'"
   ]
  },
  {
   "cell_type": "code",
   "execution_count": 10,
   "metadata": {},
   "outputs": [
    {
     "data": {
      "text/plain": [
       "20"
      ]
     },
     "execution_count": 10,
     "metadata": {},
     "output_type": "execute_result"
    }
   ],
   "source": [
    "diz.insert(10, 20)\n",
    "diz.value(10)"
   ]
  },
  {
   "cell_type": "code",
   "execution_count": 11,
   "metadata": {},
   "outputs": [
    {
     "data": {
      "text/plain": [
       "2"
      ]
     },
     "execution_count": 11,
     "metadata": {},
     "output_type": "execute_result"
    }
   ],
   "source": [
    "diz.insert(10, 2)\n",
    "diz.value(10)"
   ]
  },
  {
   "cell_type": "code",
   "execution_count": 12,
   "metadata": {},
   "outputs": [
    {
     "data": {
      "text/plain": [
       "37"
      ]
     },
     "execution_count": 12,
     "metadata": {},
     "output_type": "execute_result"
    }
   ],
   "source": [
    "diz.insert(10, 37)\n",
    "diz.value(10)"
   ]
  },
  {
   "cell_type": "code",
   "execution_count": null,
   "metadata": {},
   "outputs": [],
   "source": []
  }
 ],
 "metadata": {
  "kernelspec": {
   "display_name": "Python 3",
   "language": "python",
   "name": "python3"
  },
  "language_info": {
   "codemirror_mode": {
    "name": "ipython",
    "version": 3
   },
   "file_extension": ".py",
   "mimetype": "text/x-python",
   "name": "python",
   "nbconvert_exporter": "python",
   "pygments_lexer": "ipython3",
   "version": "3.8.5"
  },
  "latex_envs": {
   "LaTeX_envs_menu_present": true,
   "autoclose": false,
   "autocomplete": true,
   "bibliofile": "biblio.bib",
   "cite_by": "apalike",
   "current_citInitial": 1,
   "eqLabelWithNumbers": true,
   "eqNumInitial": 1,
   "hotkeys": {
    "equation": "Ctrl-E",
    "itemize": "Ctrl-I"
   },
   "labels_anchors": false,
   "latex_user_defs": false,
   "report_style_numbering": false,
   "user_envs_cfg": false
  },
  "varInspector": {
   "cols": {
    "lenName": 16,
    "lenType": 16,
    "lenVar": 40
   },
   "kernels_config": {
    "python": {
     "delete_cmd_postfix": "",
     "delete_cmd_prefix": "del ",
     "library": "var_list.py",
     "varRefreshCmd": "print(var_dic_list())"
    },
    "r": {
     "delete_cmd_postfix": ") ",
     "delete_cmd_prefix": "rm(",
     "library": "var_list.r",
     "varRefreshCmd": "cat(var_dic_list()) "
    }
   },
   "types_to_exclude": [
    "module",
    "function",
    "builtin_function_or_method",
    "instance",
    "_Feature"
   ],
   "window_display": false
  }
 },
 "nbformat": 4,
 "nbformat_minor": 4
}
