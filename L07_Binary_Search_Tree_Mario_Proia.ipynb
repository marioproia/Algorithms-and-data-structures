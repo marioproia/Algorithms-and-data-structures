{
 "cells": [
  {
   "cell_type": "markdown",
   "metadata": {},
   "source": [
    "# Binary Search Trees (BSTs)\n",
    "----"
   ]
  },
  {
   "cell_type": "code",
   "execution_count": 1,
   "metadata": {},
   "outputs": [],
   "source": [
    "## Define some function useful for testing\n",
    "import random\n",
    "\n",
    "## generate an array of n random integers up to b\n",
    "def get_random_array(n, b=50):\n",
    "    return [random.randint(0, b) for _ in range(n)]"
   ]
  },
  {
   "cell_type": "markdown",
   "metadata": {},
   "source": [
    "Hashing-based data structures are efficient solutions to index a set of keys providing three operations:\n",
    "- Insert a new key in the set\n",
    "- Delete a key from the set\n",
    "- Search a key in the set (and return its associated value.\n",
    "\n",
    "Binary Search Tree (BST) extends the set of operations with more ones.\n",
    "\n",
    "- Min/max keys in the set\n",
    "- Predecessor of a value, i.e., largest key in the set which is smaller than the given one\n",
    "- Successor of a value, i.e., smallest key in the set which is greater than the given one\n",
    "\n",
    "Implementing the above operations gives a **sorted map** (or ordered map).\n",
    "\n",
    "\n",
    "Notice that if the set would be **static** (i.e., no insert and delete) the problem can be easily solved with \n",
    "binary search on a sorted array. This is the goal of the first exercise. "
   ]
  },
  {
   "cell_type": "markdown",
   "metadata": {},
   "source": [
    "---\n",
    "### Exercise: Static sorted map\n",
    "Complete and test the implementation below. You have to use binary search to solve predecessor and successor queries on a sorted array."
   ]
  },
  {
   "cell_type": "code",
   "execution_count": 10,
   "metadata": {},
   "outputs": [],
   "source": [
    "class StaticSortedMap:\n",
    "    def __init__(self, A):\n",
    "        self.sorted_map = A[:] # copy input array\n",
    "        \n",
    "    def minimo(self):\n",
    "        return self.sorted_map[0]\n",
    "    \n",
    "    def massimo(self):\n",
    "        return self.sorted_map[-1]\n",
    "    \n",
    "    def search(self, key):\n",
    "        p = 0\n",
    "        r = len(self.sorted_map)-1\n",
    "        \n",
    "        def binary_search(p, r, key):\n",
    "            if p>r:\n",
    "                return False, -1\n",
    "            if p==r:\n",
    "                if self.sorted_map[p]==key:\n",
    "                    return True, p\n",
    "                else:\n",
    "                    if key > self.sorted_map[p]:\n",
    "                        return False, p+1\n",
    "                    elif key < self.sorted_map[p]:\n",
    "                        return False, p-1\n",
    "            mid = (p+r)//2\n",
    "            if self.sorted_map[mid] == key:\n",
    "                return True, mid\n",
    "            if self.sorted_map[mid] < key:\n",
    "                return(binary_search(mid+1, r, key))\n",
    "            else:\n",
    "                return(binary_search(p, mid-1, key))\n",
    "        return binary_search(0, len(self.sorted_map)-1, key)\n",
    "\n",
    "    def predecessor(self, key):\n",
    "        esiste, pos = self.search(key)\n",
    "        if pos == 0:\n",
    "            return None #predecessor non esiste\n",
    "        if esiste == True:\n",
    "            return pos-1, self.sorted_map[pos-1]\n",
    "        else:\n",
    "            return pos-1, self.sorted_map[pos-1]\n",
    "        \n",
    "    def successor(self, key):\n",
    "        esiste, pos = self.search(key)\n",
    "        if pos >= len(self.sorted_map)-1:\n",
    "            return None #successor non esiste\n",
    "        if esiste == True:\n",
    "            return pos+1, self.sorted_map[pos+1]\n",
    "        else:\n",
    "            return pos, self.sorted_map[pos]"
   ]
  },
  {
   "cell_type": "code",
   "execution_count": 11,
   "metadata": {},
   "outputs": [
    {
     "name": "stdout",
     "output_type": "stream",
     "text": [
      "Min:  4\n",
      "Max:  103\n",
      "Search:  (True, 6)\n",
      "Predecessor:  (2, 12)\n",
      "Successor:  (4, 97)\n",
      "\n",
      "(5, 102)\n",
      "None\n",
      "\n",
      "None\n",
      "(1, 8)\n",
      "\n",
      "(0, 4)\n",
      "(1, 8)\n",
      "\n",
      "(6, 103)\n",
      "None\n"
     ]
    }
   ],
   "source": [
    "## Test your implementation here\n",
    "A = [4, 8, 12, 91, 97, 102, 103]\n",
    "array = StaticSortedMap(A)\n",
    "\n",
    "print(\"Min: \", array.minimo())\n",
    "print(\"Max: \", array.massimo())\n",
    "print(\"Search: \", array.search(103))\n",
    "print(\"Predecessor: \", array.predecessor(91))\n",
    "print(\"Successor: \", array.successor(91))\n",
    "print()\n",
    "print(array.predecessor(103))\n",
    "print(array.successor(103))\n",
    "print()\n",
    "print(array.predecessor(4))\n",
    "print(array.successor(4))\n",
    "print()\n",
    "print(array.predecessor(7))\n",
    "print(array.successor(7))\n",
    "print()\n",
    "print(array.predecessor(200))\n",
    "print(array.successor(200))"
   ]
  },
  {
   "cell_type": "code",
   "execution_count": null,
   "metadata": {},
   "outputs": [],
   "source": []
  },
  {
   "cell_type": "markdown",
   "metadata": {},
   "source": [
    "---\n",
    "## Sorted map with Binary Search Tree"
   ]
  },
  {
   "cell_type": "code",
   "execution_count": 4,
   "metadata": {},
   "outputs": [],
   "source": [
    "class BinarySearchTree:\n",
    "    # This is a Node class that is internal to the BinarySearchTree class\n",
    "    class __Node:\n",
    "        def __init__(self, val, left=None, right=None):\n",
    "            self.val = val\n",
    "            self.left = left\n",
    "            self.right = right\n",
    "            \n",
    "        def getVal(self): \n",
    "            return self.val\n",
    "\n",
    "        def setVal(self,newval): \n",
    "            self.val = newval\n",
    "            \n",
    "        def getLeft(self): \n",
    "            return self.left\n",
    "        \n",
    "        def getRight(self): \n",
    "            return self.right\n",
    "        \n",
    "        def setLeft(self,newleft): \n",
    "            self.left = newleft\n",
    "        \n",
    "        def setRight(self,newright): \n",
    "            self.right = newright\n",
    "            \n",
    "        # This does an inorder traversal of the nodes of the tree yielding all the values. \n",
    "        # In this way, we get the values in ascending order.       \n",
    "        def __iter__(self):\n",
    "            if self.left != None:\n",
    "                for elem in self.left: \n",
    "                    yield elem\n",
    "            yield self.val\n",
    "            if self.right != None:\n",
    "                for elem in self.right:\n",
    "                    yield elem\n",
    "                    \n",
    "    # Below methods of the BinarySearchTree class.\n",
    "    def __init__(self): \n",
    "        self.root = None\n",
    "         \n",
    "    def insert(self, val):   \n",
    "        # The __insert function is recursive and is not a passed a self parameter. It is a \n",
    "        # static function (not a method of the class) but is hidden inside the insert\n",
    "        # function so users of the class will not know it exists.\n",
    "        def __insert(root, val): \n",
    "            if root == None:\n",
    "                return BinarySearchTree.__Node(val)\n",
    "            if val < root.getVal(): \n",
    "                root.setLeft(__insert(root.getLeft(), val))\n",
    "            else: \n",
    "                root.setRight(__insert(root.getRight(), val))\n",
    "            return root\n",
    "        self.root = __insert(self.root, val)\n",
    "\n",
    "    \n",
    "    def search(self, val):\n",
    "        node = self.root\n",
    "        def __binary_search(node, val):\n",
    "            if node != None:\n",
    "                if val == node.getVal():\n",
    "                    return True\n",
    "                elif val < node.getVal():\n",
    "                    return __binary_search(node.left, val)\n",
    "                elif val > node.getVal():\n",
    "                    return __binary_search(node.right, val)\n",
    "            return False\n",
    "        return __binary_search(node, val)\n",
    "        "
   ]
  },
  {
   "cell_type": "code",
   "execution_count": null,
   "metadata": {},
   "outputs": [],
   "source": []
  },
  {
   "cell_type": "code",
   "execution_count": 5,
   "metadata": {},
   "outputs": [],
   "source": [
    "from random import seed"
   ]
  },
  {
   "cell_type": "code",
   "execution_count": 6,
   "metadata": {},
   "outputs": [
    {
     "name": "stdout",
     "output_type": "stream",
     "text": [
      "[1, 6, 7, 8, 14, 15, 17, 40, 47, 47]\n",
      "['aaa', 'ciao', 'zzz', 'zzzW']\n"
     ]
    }
   ],
   "source": [
    "seed(42)\n",
    "\n",
    "a = get_random_array(10)\n",
    "\n",
    "bst = BinarySearchTree()\n",
    "\n",
    "for x in a: \n",
    "    bst.insert(x)\n",
    "\n",
    "print([x for x in bst.root][:10])\n",
    "    \n",
    "assert [x for x in bst.root] == sorted(a), \"FAIL insert!\"\n",
    "\n",
    "\n",
    "## It works with strings as well\n",
    "stringhe = [\"ciao\", \"aaa\", \"zzz\", \"zzzW\"]\n",
    "\n",
    "bst_strings = BinarySearchTree()\n",
    "\n",
    "for string in stringhe:\n",
    "    bst_strings.insert(string)\n",
    "\n",
    "print([x for x in bst_strings.root])\n",
    "\n",
    "assert [x for x in bst_strings.root] == sorted(stringhe), \"FAIL!\""
   ]
  },
  {
   "cell_type": "markdown",
   "metadata": {},
   "source": [
    "### Exercise: \n",
    "Extend the previous implementation to support **search(x)** operation. Test your implementation."
   ]
  },
  {
   "cell_type": "code",
   "execution_count": 7,
   "metadata": {},
   "outputs": [
    {
     "name": "stdout",
     "output_type": "stream",
     "text": [
      "[40, 7, 1, 47, 17, 15, 14, 8, 47, 6]\n"
     ]
    }
   ],
   "source": [
    "print(a)"
   ]
  },
  {
   "cell_type": "code",
   "execution_count": 8,
   "metadata": {},
   "outputs": [
    {
     "name": "stdout",
     "output_type": "stream",
     "text": [
      "True\n",
      "False\n"
     ]
    }
   ],
   "source": [
    "# Your implementation goes here\n",
    "key_true=15\n",
    "print(bst.search(key_true))\n",
    "\n",
    "key_false=10\n",
    "print(bst.search(key_false))"
   ]
  },
  {
   "cell_type": "code",
   "execution_count": 9,
   "metadata": {},
   "outputs": [],
   "source": [
    "# Test your implementation here\n",
    "assert bst.search(key_true) == (key_true in a), \"Fail search!\" \n",
    "assert bst.search(key_false) == (key_false in a), \"Fail search!\" "
   ]
  },
  {
   "cell_type": "code",
   "execution_count": null,
   "metadata": {},
   "outputs": [],
   "source": []
  },
  {
   "cell_type": "code",
   "execution_count": null,
   "metadata": {},
   "outputs": [],
   "source": []
  },
  {
   "cell_type": "code",
   "execution_count": null,
   "metadata": {},
   "outputs": [],
   "source": []
  }
 ],
 "metadata": {
  "kernelspec": {
   "display_name": "Python 3",
   "language": "python",
   "name": "python3"
  },
  "language_info": {
   "codemirror_mode": {
    "name": "ipython",
    "version": 3
   },
   "file_extension": ".py",
   "mimetype": "text/x-python",
   "name": "python",
   "nbconvert_exporter": "python",
   "pygments_lexer": "ipython3",
   "version": "3.8.5"
  }
 },
 "nbformat": 4,
 "nbformat_minor": 4
}
