{
 "cells": [
  {
   "cell_type": "markdown",
   "metadata": {},
   "source": [
    "## Advanced Sorting Algorithms: QuickSort and Merge Sort"
   ]
  },
  {
   "cell_type": "code",
   "execution_count": 1,
   "metadata": {},
   "outputs": [],
   "source": [
    "from metakernel import register_ipython_magics\n",
    "register_ipython_magics()"
   ]
  },
  {
   "cell_type": "code",
   "execution_count": 2,
   "metadata": {},
   "outputs": [],
   "source": [
    "## Define some function useful for testing\n",
    "import random\n",
    "import timeit\n",
    "\n",
    "## generate an array of n random integers up to 10000\n",
    "def get_random_array(n):\n",
    "    return [random.randint(0, 100) for _ in range(n)]\n",
    "\n",
    "def test_sorting_algorithm(algorithm):\n",
    "    for _ in range(100):\n",
    "        A = get_random_array(random.randint(0, 1000))\n",
    "        A_sorted = algorithm(A)\n",
    "        assert A_sorted == sorted(A), \"FAIL!\"\n",
    "        \n",
    "# testing testing function\n",
    "test_sorting_algorithm(sorted)"
   ]
  },
  {
   "cell_type": "markdown",
   "metadata": {},
   "source": [
    "## QuickSort \n",
    "\n",
    "Quicksort is a divide-and-conquer algorithm. It works by selecting a 'pivot' element from the array and partitioning the other elements into two sub-arrays, according to whether they are less than or greater than the pivot. The sub-arrays are then sorted recursively. This can be done **in-place**, requiring small additional amounts of memory to perform the sorting.\n",
    "\n",
    "Thus, the most important part of QuickSort is its partition algorithm. \n",
    "Given a pivot element, the partition algorithm splits a subarray into three parts.\n",
    "\n",
    "- Elements that are smaller than or equal to the pivot\n",
    "- The pivot\n",
    "- Elements that are greater than or equal to the pivot\n",
    "\n",
    "The algorithm works in-place, i.e., it performs the partition within the subarray itself without any extra space."
   ]
  },
  {
   "cell_type": "markdown",
   "metadata": {},
   "source": [
    "![alt text](partition_algorithm.png \"Partition: pseudocode\")"
   ]
  },
  {
   "cell_type": "markdown",
   "metadata": {},
   "source": [
    "![alt text](partition_figure.png \"Figure\")"
   ]
  },
  {
   "cell_type": "markdown",
   "metadata": {},
   "source": [
    "![alt text](partition_running_example.png \"Title\")"
   ]
  },
  {
   "cell_type": "markdown",
   "metadata": {},
   "source": [
    "### Exercise: binary vector\n",
    "You are given a binary vector, i.e., each element is either 0 or 1. Implements an easy variant of partition to sort the vector."
   ]
  },
  {
   "cell_type": "code",
   "execution_count": 3,
   "metadata": {},
   "outputs": [],
   "source": [
    "import random "
   ]
  },
  {
   "cell_type": "code",
   "execution_count": null,
   "metadata": {},
   "outputs": [],
   "source": []
  },
  {
   "cell_type": "code",
   "execution_count": 4,
   "metadata": {},
   "outputs": [],
   "source": [
    "def partition(A, low, high): \n",
    "    pivot = 0\n",
    "    i = low-1\n",
    "  \n",
    "    for j in range(low, high): \n",
    "        if A[j] <= pivot: \n",
    "            i = i+1 \n",
    "            A[i], A[j] = A[j], A[i] \n",
    "    A[i+1], A[high] = A[high], A[i+1] \n",
    "    return A"
   ]
  },
  {
   "cell_type": "code",
   "execution_count": 5,
   "metadata": {},
   "outputs": [
    {
     "name": "stdout",
     "output_type": "stream",
     "text": [
      "Originale:  [0, 0, 0, 0, 0, 0, 0, 0, 0, 0, 0, 0, 0, 0, 0, 0, 1, 1, 1, 0]\n",
      "\n",
      "Sorted:  [0, 0, 0, 0, 0, 0, 0, 0, 0, 0, 0, 0, 0, 0, 0, 0, 0, 1, 1, 1]\n"
     ]
    }
   ],
   "source": [
    "binary = [random.randint(0,1) for _ in range(20)]\n",
    "print(\"Originale: \", binary)\n",
    "\n",
    "print(\"\\nSorted: \", partition(binary, 0, len(binary)-1)) "
   ]
  },
  {
   "cell_type": "code",
   "execution_count": null,
   "metadata": {},
   "outputs": [],
   "source": []
  },
  {
   "cell_type": "markdown",
   "metadata": {},
   "source": [
    "### Exercise: QuickSort\n",
    "Below an implementation of QuickSort. \n",
    "\n",
    "In this exercise you have to:\n",
    "- Write detailed comments to describe crucial parts of the code below (to prove you have understand it)\n",
    "- Implement a random selection of the pivot element"
   ]
  },
  {
   "cell_type": "code",
   "execution_count": 6,
   "metadata": {},
   "outputs": [],
   "source": [
    "from random import randint"
   ]
  },
  {
   "cell_type": "code",
   "execution_count": 7,
   "metadata": {},
   "outputs": [],
   "source": [
    "def randomPivot(A,low,high):\n",
    "    randompivot = randint(low, high)\n",
    "    A[high], A[randompivot] = A[randompivot], A[high]\n",
    "    return partition(A, low, high)\n",
    "\n",
    "def partition(A, low, high): \n",
    "    pivot = A[high] #scelgo l'ultimo valore come pivot\n",
    "    i = low-1\n",
    "    for j in range(low, high): \n",
    "        if A[j] <= pivot: #se l'elemento corrente è più piccolo del pivot \n",
    "            i = i+1 \n",
    "            A[i], A[j] = A[j], A[i] #scambio l'elemento in posizione i con quello in posizione j, così porto a sinistra gli elementi più piccoli del pivot\n",
    "    A[i+1], A[high] = A[high], A[i+1] #il pivot viene posizionato al centro dell'array\n",
    "    return i+1 #ritorno la posizione del pivot \n",
    "\n",
    "def quickSort_rec(A, low, high):\n",
    "    if low < high: \n",
    "        pi = randomPivot(A, low, high) \n",
    "        quickSort_rec(A, low, pi-1) #recursion nella parte sinistra dell'array\n",
    "        quickSort_rec(A, pi+1, high) #recursion nella parte destra dell'array\n",
    "        \n",
    "def quickSort(B):\n",
    "    A = B[:]  \n",
    "    quickSort_rec(A, 0, len(A)-1)\n",
    "    return A"
   ]
  },
  {
   "cell_type": "code",
   "execution_count": null,
   "metadata": {},
   "outputs": [],
   "source": []
  },
  {
   "cell_type": "code",
   "execution_count": 8,
   "metadata": {},
   "outputs": [
    {
     "data": {
      "text/plain": [
       "[3, 12, 25, 33, 42, 52, 62, 88, 98, 98]"
      ]
     },
     "execution_count": 8,
     "metadata": {},
     "output_type": "execute_result"
    }
   ],
   "source": [
    "a = get_random_array(10)\n",
    "quickSort(a)"
   ]
  },
  {
   "cell_type": "code",
   "execution_count": 9,
   "metadata": {},
   "outputs": [],
   "source": [
    "test_sorting_algorithm(quickSort)"
   ]
  },
  {
   "cell_type": "markdown",
   "metadata": {},
   "source": [
    "## Let's do some experiments\n",
    "\n",
    "Is QuickSort faster than InsertionSort and SelectionSort in practice?"
   ]
  },
  {
   "cell_type": "code",
   "execution_count": 10,
   "metadata": {},
   "outputs": [],
   "source": [
    "def insertionSort(coll):\n",
    "    A = list(coll)\n",
    "    for i in range(1, len(A)):\n",
    "        curr = A[i]\n",
    "        j = i-1\n",
    "        while j >= 0 and curr < A[j]:\n",
    "            A[j+1] = A[j]\n",
    "            j -= 1\n",
    "        A[j+1] = curr\n",
    "    return A"
   ]
  },
  {
   "cell_type": "code",
   "execution_count": 11,
   "metadata": {},
   "outputs": [],
   "source": [
    "def selectionSort(coll):\n",
    "    A = list(coll)\n",
    "    for i in range(len(A)): \n",
    "        # Find the minimum element in remaining unsorted array \n",
    "        min_idx = i \n",
    "        for j in range(i+1, len(A)): \n",
    "            if A[min_idx] > A[j]: \n",
    "                min_idx = j \n",
    "\n",
    "        # Swap the found minimum element with  \n",
    "        # the first element         \n",
    "        A[i], A[min_idx] = A[min_idx], A[i]\n",
    "    return A"
   ]
  },
  {
   "cell_type": "code",
   "execution_count": 12,
   "metadata": {},
   "outputs": [],
   "source": [
    "A = get_random_array(1000)"
   ]
  },
  {
   "cell_type": "code",
   "execution_count": 13,
   "metadata": {},
   "outputs": [
    {
     "name": "stdout",
     "output_type": "stream",
     "text": [
      "5.34 ms ± 143 µs per loop (mean ± std. dev. of 7 runs, 100 loops each)\n"
     ]
    }
   ],
   "source": [
    "%timeit quickSort(A)"
   ]
  },
  {
   "cell_type": "code",
   "execution_count": 14,
   "metadata": {},
   "outputs": [
    {
     "name": "stdout",
     "output_type": "stream",
     "text": [
      "70 ms ± 1.82 ms per loop (mean ± std. dev. of 7 runs, 10 loops each)\n"
     ]
    }
   ],
   "source": [
    "%timeit insertionSort(A)"
   ]
  },
  {
   "cell_type": "code",
   "execution_count": 15,
   "metadata": {},
   "outputs": [
    {
     "name": "stdout",
     "output_type": "stream",
     "text": [
      "55.7 ms ± 6.71 ms per loop (mean ± std. dev. of 7 runs, 10 loops each)\n"
     ]
    }
   ],
   "source": [
    "%timeit selectionSort(A)"
   ]
  },
  {
   "cell_type": "markdown",
   "metadata": {},
   "source": [
    "### More than 30x faster with arrays of length 1000. \n",
    "\n",
    "Try to run the experiments with an array of 10000. **Run insertion sort and selection sort just before you go to sleep.** "
   ]
  },
  {
   "cell_type": "markdown",
   "metadata": {},
   "source": [
    "### Let's see how time changes by increasing the length of the array"
   ]
  },
  {
   "cell_type": "code",
   "execution_count": 16,
   "metadata": {},
   "outputs": [
    {
     "name": "stdout",
     "output_type": "stream",
     "text": [
      "4.09 µs ± 1.04 µs per loop (mean ± std. dev. of 7 runs, 100000 loops each)\n",
      "973 ns ± 182 ns per loop (mean ± std. dev. of 7 runs, 1000000 loops each)\n",
      "1.96 µs ± 444 ns per loop (mean ± std. dev. of 7 runs, 1000000 loops each)\n",
      "10.5 µs ± 1.71 µs per loop (mean ± std. dev. of 7 runs, 100000 loops each)\n",
      "2.23 µs ± 499 ns per loop (mean ± std. dev. of 7 runs, 1000000 loops each)\n",
      "4.41 µs ± 1.03 µs per loop (mean ± std. dev. of 7 runs, 100000 loops each)\n",
      "19.1 µs ± 651 ns per loop (mean ± std. dev. of 7 runs, 10000 loops each)\n",
      "7.31 µs ± 813 ns per loop (mean ± std. dev. of 7 runs, 100000 loops each)\n",
      "11.5 µs ± 2.68 µs per loop (mean ± std. dev. of 7 runs, 100000 loops each)\n",
      "61.8 µs ± 22.1 µs per loop (mean ± std. dev. of 7 runs, 10000 loops each)\n",
      "21.8 µs ± 1.28 µs per loop (mean ± std. dev. of 7 runs, 10000 loops each)\n",
      "26.6 µs ± 7.3 µs per loop (mean ± std. dev. of 7 runs, 10000 loops each)\n",
      "96.7 µs ± 22.6 µs per loop (mean ± std. dev. of 7 runs, 10000 loops each)\n",
      "72.8 µs ± 1.63 µs per loop (mean ± std. dev. of 7 runs, 10000 loops each)\n",
      "64.8 µs ± 1.64 µs per loop (mean ± std. dev. of 7 runs, 10000 loops each)\n",
      "189 µs ± 5.28 µs per loop (mean ± std. dev. of 7 runs, 10000 loops each)\n",
      "241 µs ± 13.1 µs per loop (mean ± std. dev. of 7 runs, 1000 loops each)\n",
      "228 µs ± 12.2 µs per loop (mean ± std. dev. of 7 runs, 1000 loops each)\n",
      "496 µs ± 170 µs per loop (mean ± std. dev. of 7 runs, 1000 loops each)\n",
      "1.08 ms ± 41.8 µs per loop (mean ± std. dev. of 7 runs, 1000 loops each)\n",
      "1.15 ms ± 259 µs per loop (mean ± std. dev. of 7 runs, 1000 loops each)\n",
      "1.34 ms ± 373 µs per loop (mean ± std. dev. of 7 runs, 1000 loops each)\n",
      "6.07 ms ± 2.79 ms per loop (mean ± std. dev. of 7 runs, 100 loops each)\n",
      "3.69 ms ± 291 µs per loop (mean ± std. dev. of 7 runs, 100 loops each)\n",
      "2.28 ms ± 102 µs per loop (mean ± std. dev. of 7 runs, 100 loops each)\n",
      "20 ms ± 1.86 ms per loop (mean ± std. dev. of 7 runs, 10 loops each)\n",
      "22.7 ms ± 3.94 ms per loop (mean ± std. dev. of 7 runs, 100 loops each)\n",
      "8.93 ms ± 3.2 ms per loop (mean ± std. dev. of 7 runs, 100 loops each)\n",
      "99.6 ms ± 34.6 ms per loop (mean ± std. dev. of 7 runs, 10 loops each)\n",
      "58.1 ms ± 2 ms per loop (mean ± std. dev. of 7 runs, 10 loops each)\n"
     ]
    }
   ],
   "source": [
    "qs_t = []\n",
    "is_t = []\n",
    "ss_t = []\n",
    "\n",
    "lens = [2**i for i in range(1, 11)]\n",
    "\n",
    "for n in lens:\n",
    "    A = get_random_array(n)\n",
    "    result = %timeit -o quickSort(A)\n",
    "    qs_t.append( result.best )\n",
    "    result = %timeit -o insertionSort(A)\n",
    "    is_t.append( result.best )\n",
    "    result = %timeit -o selectionSort(A)\n",
    "    ss_t.append( result.best )"
   ]
  },
  {
   "cell_type": "code",
   "execution_count": 17,
   "metadata": {},
   "outputs": [
    {
     "name": "stderr",
     "output_type": "stream",
     "text": [
      "UsageError: unrecognized arguments: # any cell within the notebook that creates a plot will embed a PNG image of the resulting graphic\n"
     ]
    }
   ],
   "source": [
    "import matplotlib.pyplot as plt # standard way to import\n",
    "\n",
    "%matplotlib inline # any cell within the notebook that creates a plot will embed a PNG image of the resulting graphic\n",
    "plt.rcParams[\"figure.figsize\"] = (20,10)\n",
    "plt.style.use('ggplot')"
   ]
  },
  {
   "cell_type": "code",
   "execution_count": null,
   "metadata": {},
   "outputs": [],
   "source": [
    "fig = plt.figure()\n",
    "ax = fig.add_subplot(1, 1, 1)\n",
    "\n",
    "ax.plot(lens, qs_t, \"g--\", label=\"QuickSort\")\n",
    "ax.plot(lens, is_t, \"r--\", label=\"InsertionSort\")\n",
    "ax.plot(lens, ss_t, \"b--\", label=\"SelectionSort\")\n",
    "\n",
    "_ = ax.legend(loc=\"best\")"
   ]
  },
  {
   "cell_type": "markdown",
   "metadata": {},
   "source": [
    "## Merge Sort\n",
    "Merge Sort is an efficient, general-purpose, comparison-based sorting algorithm. Most implementations produce a **stable sort**, which means that the order of equal elements is the same in the input and output. \n",
    "\n",
    "Merge sort is a divide and conquer algorithm that was invented by John von Neumann in 1945.\n",
    "\n",
    "Below a running example."
   ]
  },
  {
   "cell_type": "markdown",
   "metadata": {},
   "source": [
    "![alt text](mergesort_figure.png \"Title\")"
   ]
  },
  {
   "cell_type": "markdown",
   "metadata": {},
   "source": [
    "### Exercise: Merge Sort\n",
    "Complete the implementation of Merge Sort by implementing function ```merge()```."
   ]
  },
  {
   "cell_type": "code",
   "execution_count": 34,
   "metadata": {},
   "outputs": [],
   "source": [
    "def merge(A, l, m, r): \n",
    "    n1 = m - l + 1\n",
    "    n2 = r - m \n",
    "\n",
    "    # create temp arrays \n",
    "    L = [0] * (n1) \n",
    "    R = [0] * (n2) \n",
    "    for i in range(0,n1): \n",
    "        L[i] = A[l + i] \n",
    "    for j in range(0,n2): \n",
    "        R[j] = A[m + 1 + j] \n",
    "\n",
    "    i = 0     # Initial index of first subarray \n",
    "    j = 0     # Initial index of second subarray \n",
    "    k = l     # Initial index of merged subarray \n",
    "\n",
    "    while i < n1 and j < n2 : \n",
    "        if L[i] <= R[j]: \n",
    "            A[k] = L[i] \n",
    "            i += 1\n",
    "        else: \n",
    "            A[k] = R[j] \n",
    "            j += 1\n",
    "        k += 1\n",
    "\n",
    "    while i < n1: \n",
    "        A[k] = L[i] \n",
    "        i += 1\n",
    "        k += 1\n",
    "\n",
    "    while j < n2: \n",
    "        A[k] = R[j] \n",
    "        j += 1\n",
    "        k += 1"
   ]
  },
  {
   "cell_type": "code",
   "execution_count": 35,
   "metadata": {},
   "outputs": [],
   "source": [
    "def mergeSort_rec(A, l, r): \n",
    "    if l < r:       \n",
    "        m = (l+(r-1))//2  # Same as (l+r)//2, but avoids overflow for large l and h \n",
    "    \n",
    "        # Sort first and second halves \n",
    "        mergeSort_rec(A, l, m) \n",
    "        mergeSort_rec(A, m+1, r) \n",
    "        merge(A, l, m, r)"
   ]
  },
  {
   "cell_type": "code",
   "execution_count": 36,
   "metadata": {},
   "outputs": [],
   "source": [
    "def mergeSort(B):\n",
    "    A = B[:] # Copy the array just because we decided to return a sorted copy of the original array \n",
    "    mergeSort_rec(A, 0, len(A)-1)\n",
    "    return A"
   ]
  },
  {
   "cell_type": "code",
   "execution_count": 37,
   "metadata": {},
   "outputs": [
    {
     "name": "stdout",
     "output_type": "stream",
     "text": [
      "Given array:  [40, 31, 55, 5, 19, 50, 42, 9, 38, 14]\n",
      "Sorted array:  [5, 9, 14, 19, 31, 38, 40, 42, 50, 55]\n"
     ]
    }
   ],
   "source": [
    "arr = get_random_array(10)\n",
    "\n",
    "print(\"Given array: \", arr) \n",
    "print(\"Sorted array: \", mergeSort(arr))"
   ]
  },
  {
   "cell_type": "code",
   "execution_count": null,
   "metadata": {},
   "outputs": [],
   "source": []
  },
  {
   "cell_type": "code",
   "execution_count": 26,
   "metadata": {},
   "outputs": [],
   "source": [
    "test_sorting_algorithm(mergeSort)"
   ]
  },
  {
   "cell_type": "code",
   "execution_count": 27,
   "metadata": {},
   "outputs": [],
   "source": [
    "A = get_random_array(10000)"
   ]
  },
  {
   "cell_type": "code",
   "execution_count": 28,
   "metadata": {},
   "outputs": [
    {
     "name": "stdout",
     "output_type": "stream",
     "text": [
      "198 ms ± 17.4 ms per loop (mean ± std. dev. of 7 runs, 1 loop each)\n"
     ]
    }
   ],
   "source": [
    "%timeit quickSort(A)"
   ]
  },
  {
   "cell_type": "code",
   "execution_count": 29,
   "metadata": {},
   "outputs": [
    {
     "name": "stdout",
     "output_type": "stream",
     "text": [
      "87.2 ms ± 3.27 ms per loop (mean ± std. dev. of 7 runs, 10 loops each)\n"
     ]
    }
   ],
   "source": [
    "%timeit mergeSort(A)"
   ]
  },
  {
   "cell_type": "code",
   "execution_count": null,
   "metadata": {},
   "outputs": [],
   "source": []
  }
 ],
 "metadata": {
  "kernelspec": {
   "display_name": "Python 3",
   "language": "python",
   "name": "python3"
  },
  "language_info": {
   "codemirror_mode": {
    "name": "ipython",
    "version": 3
   },
   "file_extension": ".py",
   "mimetype": "text/x-python",
   "name": "python",
   "nbconvert_exporter": "python",
   "pygments_lexer": "ipython3",
   "version": "3.8.5"
  },
  "latex_envs": {
   "LaTeX_envs_menu_present": true,
   "autoclose": false,
   "autocomplete": true,
   "bibliofile": "biblio.bib",
   "cite_by": "apalike",
   "current_citInitial": 1,
   "eqLabelWithNumbers": true,
   "eqNumInitial": 1,
   "hotkeys": {
    "equation": "Ctrl-E",
    "itemize": "Ctrl-I"
   },
   "labels_anchors": false,
   "latex_user_defs": false,
   "report_style_numbering": false,
   "user_envs_cfg": false
  },
  "varInspector": {
   "cols": {
    "lenName": 16,
    "lenType": 16,
    "lenVar": 40
   },
   "kernels_config": {
    "python": {
     "delete_cmd_postfix": "",
     "delete_cmd_prefix": "del ",
     "library": "var_list.py",
     "varRefreshCmd": "print(var_dic_list())"
    },
    "r": {
     "delete_cmd_postfix": ") ",
     "delete_cmd_prefix": "rm(",
     "library": "var_list.r",
     "varRefreshCmd": "cat(var_dic_list()) "
    }
   },
   "types_to_exclude": [
    "module",
    "function",
    "builtin_function_or_method",
    "instance",
    "_Feature"
   ],
   "window_display": false
  }
 },
 "nbformat": 4,
 "nbformat_minor": 4
}
